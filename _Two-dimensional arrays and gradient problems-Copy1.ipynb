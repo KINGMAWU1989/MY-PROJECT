{
 "cells": [
  {
   "cell_type": "code",
   "execution_count": 2,
   "id": "b191709f",
   "metadata": {},
   "outputs": [
    {
     "data": {
      "text/plain": [
       "(array([-50. , -49.9, -49.8, ...,  49.8,  49.9,  50. ]),\n",
       " array([-24.  , -23.95, -23.9 , ...,  25.9 ,  25.95,  26.  ]))"
      ]
     },
     "execution_count": 2,
     "metadata": {},
     "output_type": "execute_result"
    }
   ],
   "source": [
    "#problem 1\n",
    "\n",
    "import numpy as np\n",
    "x_ndarray = np.arange(-50, 50.1, 0.1)\n",
    "y_ndarray = 0.5*x_ndarray + 1\n",
    "x_ndarray, y_ndarray"
   ]
  },
  {
   "cell_type": "code",
   "execution_count": 3,
   "id": "19b669cb",
   "metadata": {},
   "outputs": [
    {
     "name": "stdout",
     "output_type": "stream",
     "text": [
      "[[-50.   -24.  ]\n",
      " [-49.9  -23.95]\n",
      " [-49.8  -23.9 ]\n",
      " ...\n",
      " [ 49.8   25.9 ]\n",
      " [ 49.9   25.95]\n",
      " [ 50.    26.  ]]\n"
     ]
    },
    {
     "data": {
      "text/plain": [
       "(1001, 2)"
      ]
     },
     "execution_count": 3,
     "metadata": {},
     "output_type": "execute_result"
    }
   ],
   "source": [
    "#problem 2\n",
    "xy_ndarray = np.stack((x_ndarray, y_ndarray),-1)\n",
    "print(xy_ndarray)\n",
    "xy_ndarray.shape"
   ]
  },
  {
   "cell_type": "code",
   "execution_count": 5,
   "id": "7f66267e",
   "metadata": {},
   "outputs": [
    {
     "data": {
      "text/plain": [
       "(1000, 1)"
      ]
     },
     "execution_count": 5,
     "metadata": {},
     "output_type": "execute_result"
    }
   ],
   "source": [
    "#problem 3\n",
    "dx = np.diff(x_ndarray)\n",
    "dy = np.diff(y_ndarray)\n",
    "slope = dy/dx\n",
    "slope = slope.reshape(slope.shape[0],1)\n",
    "\n",
    "slope.shape"
   ]
  },
  {
   "cell_type": "code",
   "execution_count": 8,
   "id": "43d8cff7",
   "metadata": {},
   "outputs": [
    {
     "data": {
      "image/png": "[encoded data removed]",
      "text/plain": [
       "<Figure size 432x288 with 1 Axes>"
      ]
     },
     "metadata": {
      "needs_background": "light"
     },
     "output_type": "display_data"
    }
   ],
   "source": [
    "#problem 4\n",
    "import matplotlib.pyplot as plt\n",
    "plt.xlabel(\"x\")\n",
    "plt.xlabel(\"gradient\")\n",
    "plt.title(\"linear funtion\")\n",
    "plt.plot(x_ndarray,y_ndarray, color='orange' ,linewidth=3)\n",
    "plt.show()"
   ]
  },
  {
   "cell_type": "code",
   "execution_count": null,
   "id": "f8be1d87",
   "metadata": {},
   "outputs": [],
   "source": []
  },
  {
   "cell_type": "code",
   "execution_count": 19,
   "id": "130b3461",
   "metadata": {},
   "outputs": [],
   "source": [
    "#problem 5\n",
    "def compute_gradient(funtion, x_range = (-50, 50.1, 0.1)):\n",
    "    x_array = np.arange(*x_range)\n",
    "    y_array = funtion(x_array)\n",
    "    \n",
    "    xy_array = np.concatenate((x_array[:,np.neaaxis], y_array[:,newaxis]), axis=1)\n",
    "    gradient = (xy_array[1:, 1] - xy_array[:-1, 1])/(xy_array[1:,0] - xy_array[:L-1, 0])\n",
    "    def funtion(x_array):\n",
    "        y_array = x_array**2\n",
    "        return y_array\n",
    "    xy_array1, gradient1 = copute_gradient(funtion1)\n",
    "    print(compute_gradient(funtion1))"
   ]
  },
  {
   "cell_type": "code",
   "execution_count": 20,
   "id": "d21c49ec",
   "metadata": {},
   "outputs": [],
   "source": [
    "#problem 6\n",
    "def compute_gradient(funtion, x_range = (-50, 50.1, 0.1)):\n",
    "    array_x = np.arange(*x_range)\n",
    "    array_y = funtion(x_array)\n",
    "    min_y_value =np.min(array_y)\n",
    "    min__arg =np.argmin(array_y)\n",
    "    array_xy = np.stack((array_x, array_y),-1)\n",
    "    return f'The minimum value of y for this funtion is {min_y_value} and its index is {min_y_arg}'\n",
    "\n"
   ]
  },
  {
   "cell_type": "code",
   "execution_count": null,
   "id": "5f4596bc",
   "metadata": {},
   "outputs": [],
   "source": []
  },
  {
   "cell_type": "code",
   "execution_count": null,
   "id": "86ed78f2",
   "metadata": {},
   "outputs": [],
   "source": []
  }
 ],
 "metadata": {
  "kernelspec": {
   "display_name": "Python 3 (ipykernel)",
   "language": "python",
   "name": "python3"
  },
  "language_info": {
   "codemirror_mode": {
    "name": "ipython",
    "version": 3
   },
   "file_extension": ".py",
   "mimetype": "text/x-python",
   "name": "python",
   "nbconvert_exporter": "python",
   "pygments_lexer": "ipython3",
   "version": "3.9.12"
  }
 },
 "nbformat": 4,
 "nbformat_minor": 5
}
