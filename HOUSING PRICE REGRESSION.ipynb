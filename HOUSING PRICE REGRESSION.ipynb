{
 "cells": [
  {
   "cell_type": "code",
   "execution_count": null,
   "id": "af0f9f3c",
   "metadata": {
    "scrolled": true
   },
   "outputs": [],
   "source": [
    "#problem 1\n",
    "import pandas as pd\n",
    "pd_train = pd.read_csv('train.csv')\n",
    "target_variable = pd_train[[\"GrLiveArea\",\"YearBuilt\", \"salesprice\"]]\n",
    "target_variable.head()"
   ]
  },
  {
   "cell_type": "code",
   "execution_count": null,
   "id": "13300578",
   "metadata": {},
   "outputs": [],
   "source": [
    "#problem 2\n",
    "import numpy as no\n",
    "from sklearn.model_selection import train_test_split\n",
    "from sklearn.linear_model import linearRegression\n",
    "from sklearn.matrics import *\n",
    "import mataplotlib.pyplot as plt\n",
    "%mataplotlib inline"
   ]
  },
  {
   "cell_type": "code",
   "execution_count": null,
   "id": "ee7484db",
   "metadata": {},
   "outputs": [],
   "source": [
    "x = train_df[['GrliveArea', 'YearBuilt']].values\n",
    "y = train_df['salePrice'].values\n",
    "\n",
    "x_train,x_test, y_train,y_test = train_test_split(x,y)\n",
    "print(x_train.shape, x_test.shape, y_test.shape)\n",
    "             "
   ]
  },
  {
   "cell_type": "code",
   "execution_count": null,
   "id": "cfb33ab5",
   "metadata": {},
   "outputs": [],
   "source": [
    "reg = LinearRegression().fit(x_train, y_train)\n",
    "reg_predict = reg.predict(x_test)\n",
    "pd.Dataframe([reg_predict, y_test])"
   ]
  },
  {
   "cell_type": "code",
   "execution_count": null,
   "id": "ec69e0e8",
   "metadata": {},
   "outputs": [],
   "source": [
    "print(\"mean square Error:\", mean_squared_error(y_test, reg_predict))"
   ]
  },
  {
   "cell_type": "code",
   "execution_count": null,
   "id": "3035f000",
   "metadata": {},
   "outputs": [],
   "source": [
    "def plot_graph(xlabel, ylabel, x,y_true, y_pred):\n",
    "    plt.title('visualization between' + xlabel + 'and + ylabel')\n",
    "    plt.xlabel(xlabel)\n",
    "    plt.ylabel(ylabel)  \n",
    "    plt.scatter(x, y_true,label='true value')\n",
    "    plt.scatter(x, y_pred,label='predicted value')\n",
    "    plt.legend()\n",
    "    plt.show()"
   ]
  },
  {
   "cell_type": "code",
   "execution_count": null,
   "id": "66c0d819",
   "metadata": {},
   "outputs": [],
   "source": [
    "#problem 3\n",
    "\n",
    "from sklearn.svm import SVR\n",
    "from sklearn.tree import DecisionTreeregressor\n",
    "from sklearn.ensemble import RandomForestRegressor\n"
   ]
  },
  {
   "cell_type": "code",
   "execution_count": null,
   "id": "f5d9b568",
   "metadata": {},
   "outputs": [],
   "source": [
    "svr = SVR()\n",
    "svr.fit(x_train, y_train)\n",
    "svr_predict = svr.predict(x_test)\n",
    "print(\"mean square Error:\", mean_squared_error(y_test, reg_predict))"
   ]
  },
  {
   "cell_type": "code",
   "execution_count": null,
   "id": "1c0dd5db",
   "metadata": {},
   "outputs": [],
   "source": [
    "plot_graph('GrLiveArea', 'salesprice',x_test[:,0], y_test, svr_predict)"
   ]
  },
  {
   "cell_type": "code",
   "execution_count": null,
   "id": "c50a9d9d",
   "metadata": {},
   "outputs": [],
   "source": [
    "#problem 4\n",
    "train_df2 = [[\"GrLiveArea\",\"YearBuilt\", \"salesprice\"\"LotArea\",\" Yrsold\"]]\n",
    "train_df2"
   ]
  },
  {
   "cell_type": "code",
   "execution_count": null,
   "id": "30d2a638",
   "metadata": {},
   "outputs": [],
   "source": []
  },
  {
   "cell_type": "code",
   "execution_count": null,
   "id": "c7ead2b5",
   "metadata": {},
   "outputs": [],
   "source": []
  },
  {
   "cell_type": "code",
   "execution_count": null,
   "id": "f0c34d41",
   "metadata": {},
   "outputs": [],
   "source": []
  },
  {
   "cell_type": "code",
   "execution_count": null,
   "id": "83cd1d7c",
   "metadata": {},
   "outputs": [],
   "source": []
  }
 ],
 "metadata": {
  "kernelspec": {
   "display_name": "Python 3 (ipykernel)",
   "language": "python",
   "name": "python3"
  },
  "language_info": {
   "codemirror_mode": {
    "name": "ipython",
    "version": 3
   },
   "file_extension": ".py",
   "mimetype": "text/x-python",
   "name": "python",
   "nbconvert_exporter": "python",
   "pygments_lexer": "ipython3",
   "version": "3.9.12"
  }
 },
 "nbformat": 4,
 "nbformat_minor": 5
}
