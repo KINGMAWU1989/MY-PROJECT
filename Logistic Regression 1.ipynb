{
 "cells": [
  {
   "cell_type": "code",
   "execution_count": 112,
   "id": "b9b9ec18",
   "metadata": {},
   "outputs": [],
   "source": [
    "\n",
    "    import numpy as np\n",
    "    import matplotlib.pyplot as plt\n",
    "    import pandas as pd\n",
    "    import seaborn as sns"
   ]
  },
  {
   "cell_type": "code",
   "execution_count": 113,
   "id": "5b3c4252",
   "metadata": {},
   "outputs": [],
   "source": [
    "class ScratchLogisticRegression():\n",
    "    \n",
    "    def __init__(self, num_iter=100, lr=0.01, bias=False,C=1, verbose=False):\n",
    "        self.iter = num_iter\n",
    "        self.lr = lr\n",
    "        self.bias = bias\n",
    "        self.verbose = verbose\n",
    "        self.lamda = 1/C\n",
    "        self.loss = np.zeros(self.iter)\n",
    "        self.val_loss = np.zeros(self.iter)\n",
    "    \n",
    "    def _check_for_bias(self,X):\n",
    "        if self.bias == True:\n",
    "            x1 = np.ones(X.shape[0])\n",
    "        else:\n",
    "            x1 = np.zeros(X.shape[0])\n",
    "        \n",
    "        return np.concatenate([x1.reshape(-1,1),X],axis=1)\n",
    "        \n",
    "        \n",
    "    def _sigmoid_function(self,X):\n",
    "        linear_model = np.dot(X,self.W)\n",
    "        \n",
    "        return 1/(1+np.exp(-linear_model))\n",
    "    \n",
    "    def _gradient_descent(self, X, error):\n",
    "        self.tmp = np.append(0,np.ones(X.shape[1]-1))\n",
    "        self.W -= self.lr*(np.dot(error,X) + self.tmp*self.lamda*self.W)/len(X)\n",
    "        \n",
    "    def _loss_function(self, y, y_pred):\n",
    "        return np.mean(-y*np.log(y_pred) -(1-y)*np.log(1-y_pred))+0.5*self.lamda*np.mean(self.W[1:]**2)\n",
    "        \n",
    "    def fit(self, X, y, X_val=False, y_val=False):\n",
    "        \n",
    "        self.ylabel = np.unique(y)\n",
    "        \n",
    "        y = np.where(y==self.ylabel[0],0,1)\n",
    "        \n",
    "        if (type(y_val) != bool):\n",
    "            y_val = np.where(y_val==self.ylabel[0],0,1)\n",
    "        \n",
    "        X = self._check_for_bias(X)\n",
    "        \n",
    "        self.W = np.random.rand(X.shape[1])\n",
    "        \n",
    "        for i in range(self.iter):\n",
    "            y_pred = self._sigmoid_function(X)\n",
    "            error = y_pred - y            \n",
    "            self.loss[i] = self._loss_function(y,y_pred)\n",
    "            \n",
    "            if (type(X_val) != bool):\n",
    "                val_X = self._check_for_bias(X_val)\n",
    "                val_ypred = self._sigmoid_function(val_X)\n",
    "                \n",
    "                self.val_loss[i] = self._loss_function(y_val,val_ypred)\n",
    "            \n",
    "            self._gradient_descent(X, error)\n",
    "            \n",
    "            if self.verbose:\n",
    "                print('n_iter:', i,\n",
    "                      'loss:',self.loss[i]) \n",
    "        np.save('theta', self.W)\n",
    "        \n",
    "    def predict(self, X):\n",
    "        X = self._check_for_bias(X)\n",
    "        y_pred = self._sigmoid_function(X)\n",
    "        return np.where(y_pred<0.5,self.ylabel[0],self.ylabel[1])\n",
    "    \n",
    "    def predict_proba(self, X):\n",
    "        X = self._check_for_bias(X)\n",
    "        self._sigmoid_function(X)\n",
    "        return self._sigmoid_function(X)\n",
    "\n",
    "\n",
    "\n",
    "\n",
    "\n",
    "\n",
    "\n",
    "\n"
   ]
  },
  {
   "cell_type": "code",
   "execution_count": 114,
   "id": "461ad731",
   "metadata": {},
   "outputs": [
    {
     "name": "stdout",
     "output_type": "stream",
     "text": [
      "x:\n",
      " [[ 1.  1.]\n",
      " [ 1.  2.]\n",
      " [ 1.  3.]\n",
      " [ 1.  4.]\n",
      " [ 1.  5.]\n",
      " [ 1.  6.]\n",
      " [ 1.  7.]\n",
      " [ 1.  8.]\n",
      " [ 1.  9.]\n",
      " [ 1. 10.]]\n"
     ]
    }
   ],
   "source": [
    "x1 = np.arange(1,11,1).reshape(-1,1)\n",
    "x0 = np.ones(x1.shape[0])\n",
    "x = np.concatenate([x0.reshape(-1,1),x1],axis=1)\n",
    "print('x:\\n',x)"
   ]
  },
  {
   "cell_type": "code",
   "execution_count": 115,
   "id": "f9ee0891",
   "metadata": {},
   "outputs": [
    {
     "name": "stdout",
     "output_type": "stream",
     "text": [
      "theta:\n",
      " [1.15909665 0.59404165]\n"
     ]
    }
   ],
   "source": [
    "theta = np.random.randn(x.shape[1])\n",
    "print('theta:\\n',theta)"
   ]
  },
  {
   "cell_type": "code",
   "execution_count": 116,
   "id": "a153c18d",
   "metadata": {},
   "outputs": [
    {
     "name": "stdout",
     "output_type": "stream",
     "text": [
      "z:\n",
      " [1.75313831 2.34717996 2.94122162 3.53526327 4.12930493 4.72334658\n",
      " 5.31738824 5.91142989 6.50547155 7.0995132 ]\n"
     ]
    }
   ],
   "source": [
    "z = np.dot(x,theta)\n",
    "print('z:\\n',z)"
   ]
  },
  {
   "cell_type": "code",
   "execution_count": 117,
   "id": "d9e9dca2",
   "metadata": {},
   "outputs": [
    {
     "name": "stdout",
     "output_type": "stream",
     "text": [
      "y:\n",
      " [0.8523482  0.91270981 0.94984695 0.97167463 0.98416085 0.99119286\n",
      " 0.9951184  0.997299   0.998507   0.99917517]\n"
     ]
    }
   ],
   "source": [
    "y = 1/(1+np.exp(-z))\n",
    "print('y:\\n',y)"
   ]
  },
  {
   "cell_type": "code",
   "execution_count": 118,
   "id": "436c5477",
   "metadata": {},
   "outputs": [],
   "source": [
    "z1 = np.arange(-50,50,0.1)\n",
    "y1 = 1/(1+np.exp(-z1))"
   ]
  },
  {
   "cell_type": "code",
   "execution_count": 119,
   "id": "3442c6d6",
   "metadata": {},
   "outputs": [
    {
     "data": {
      "image/png": "[encoded data removed]",
      "text/plain": [
       "<Figure size 432x288 with 1 Axes>"
      ]
     },
     "metadata": {
      "needs_background": "light"
     },
     "output_type": "display_data"
    }
   ],
   "source": [
    "plt.scatter(z1,y1)\n",
    "plt.plot();"
   ]
  },
  {
   "cell_type": "code",
   "execution_count": 120,
   "id": "8f005d52",
   "metadata": {},
   "outputs": [
    {
     "name": "stdout",
     "output_type": "stream",
     "text": [
      "x:\n",
      " [[1. 2.]\n",
      " [1. 1.]\n",
      " [1. 5.]\n",
      " [1. 6.]\n",
      " [1. 4.]]\n",
      "y:\n",
      " [0.4 0.5 0.2 0.1 0.9]\n",
      "yhat:\n",
      " [0 1 0 0 1]\n",
      "ytest:\n",
      " [1 1 0 0 1]\n"
     ]
    }
   ],
   "source": [
    "x1 = np.array([2,1,5,6,4]).reshape(-1,1)\n",
    "x0 = np.ones(x1.shape[0])\n",
    "x = np.concatenate([x0.reshape(-1,1),x1],axis=1)\n",
    "\n",
    "y = np.array([0.4,0.5,0.2,0.1,0.9])\n",
    "yhat = np.where(y<0.5,0,1)\n",
    "y_test = np.array([1,1,0,0,1])\n",
    "print('x:\\n',x)\n",
    "print('y:\\n',y)\n",
    "print('yhat:\\n',yhat)\n",
    "print('ytest:\\n',y_test)"
   ]
  },
  {
   "cell_type": "code",
   "execution_count": 121,
   "id": "0ce90055",
   "metadata": {},
   "outputs": [
    {
     "name": "stdout",
     "output_type": "stream",
     "text": [
      "theta:\n",
      " [ 1.05451693 -0.05835013]\n"
     ]
    }
   ],
   "source": [
    "theta = np.random.randn(x.shape[1])\n",
    "print('theta:\\n',theta)"
   ]
  },
  {
   "cell_type": "code",
   "execution_count": 122,
   "id": "99f60ad5",
   "metadata": {},
   "outputs": [
    {
     "name": "stdout",
     "output_type": "stream",
     "text": [
      "error:\n",
      " [-1  0  0  0  0]\n"
     ]
    }
   ],
   "source": [
    "error = yhat - y_test\n",
    "print('error:\\n',error)"
   ]
  },
  {
   "cell_type": "code",
   "execution_count": 123,
   "id": "851c3183",
   "metadata": {},
   "outputs": [
    {
     "data": {
      "text/plain": [
       "array([ 0.        , -0.05835013])"
      ]
     },
     "execution_count": 123,
     "metadata": {},
     "output_type": "execute_result"
    }
   ],
   "source": [
    "lm = np.array([0,1])\n",
    "theta*lm"
   ]
  },
  {
   "cell_type": "code",
   "execution_count": 124,
   "id": "a8d52df7",
   "metadata": {},
   "outputs": [
    {
     "data": {
      "text/plain": [
       "array([-0.002     , -0.01567003])"
      ]
     },
     "execution_count": 124,
     "metadata": {},
     "output_type": "execute_result"
    }
   ],
   "source": [
    "0.01*np.dot(error,x)/len(x) + theta*lm/len(x)"
   ]
  },
  {
   "cell_type": "code",
   "execution_count": 125,
   "id": "8322fb67",
   "metadata": {},
   "outputs": [
    {
     "name": "stdout",
     "output_type": "stream",
     "text": [
      "theta:\n",
      " [ 1.05651693 -0.04268011]\n"
     ]
    }
   ],
   "source": [
    "theta -= (0.01*np.dot(error,x)/len(x) + theta*lm/len(x))\n",
    "print('theta:\\n',theta)"
   ]
  },
  {
   "cell_type": "code",
   "execution_count": 126,
   "id": "b40ce37f",
   "metadata": {},
   "outputs": [
    {
     "data": {
      "text/plain": [
       "array([ 1.05851693, -0.03014408])"
      ]
     },
     "execution_count": 126,
     "metadata": {},
     "output_type": "execute_result"
    }
   ],
   "source": [
    "theta -= (0.01*np.dot(error,x)/len(x) + theta*lm/len(x))\n",
    "theta"
   ]
  },
  {
   "cell_type": "code",
   "execution_count": 127,
   "id": "e00795d4",
   "metadata": {},
   "outputs": [
    {
     "name": "stdout",
     "output_type": "stream",
     "text": [
      "x1:\n",
      " [[2]\n",
      " [1]\n",
      " [5]\n",
      " [6]\n",
      " [4]]\n",
      "x1:\n",
      " [[2]\n",
      " [1]\n",
      " [5]\n",
      " [2]\n",
      " [4]]\n",
      "y:\n",
      " [1 0 0 0 1]\n"
     ]
    }
   ],
   "source": [
    "x1 = np.array([2,1,5,6,4]).reshape(-1,1)\n",
    "x2 = np.array([2,1,5,2,4]).reshape(-1,1)\n",
    "y = np.array([1,0,0,0,1])\n",
    "print('x1:\\n',x1)\n",
    "print('x1:\\n',x2)\n",
    "print('y:\\n',y)"
   ]
  },
  {
   "cell_type": "code",
   "execution_count": 128,
   "id": "35dbe746",
   "metadata": {},
   "outputs": [],
   "source": [
    "clf = ScratchLogisticRegression()\n",
    "clf.fit(x1,y,x1,y)\n",
    "\n",
    "y_proba = clf.predict_proba(x2)\n",
    "y_pred = clf.predict(x2)\n",
    "\n",
    " "
   ]
  },
  {
   "cell_type": "code",
   "execution_count": 129,
   "id": "0306ca85",
   "metadata": {},
   "outputs": [
    {
     "name": "stdout",
     "output_type": "stream",
     "text": [
      "y_proba:\n",
      " [0.43359728 0.46665094 0.33895088 0.43359728 0.36949628]\n",
      "y_pred:\n",
      " [0 0 0 0 0]\n"
     ]
    }
   ],
   "source": [
    "print('y_proba:\\n',y_proba)\n",
    "print('y_pred:\\n',y_pred)"
   ]
  },
  {
   "cell_type": "code",
   "execution_count": 130,
   "id": "ca2ccad6",
   "metadata": {},
   "outputs": [],
   "source": [
    "y1 = np.ones(99)\n",
    "y2 = np.zeros(99)\n",
    "yh = np.arange(0.01,1.0,0.01)\n"
   ]
  },
  {
   "cell_type": "code",
   "execution_count": 131,
   "id": "7eb32ec6",
   "metadata": {},
   "outputs": [
    {
     "data": {
      "image/png": "[encoded data removed]",
      "text/plain": [
       "<Figure size 576x576 with 1 Axes>"
      ]
     },
     "metadata": {
      "needs_background": "light"
     },
     "output_type": "display_data"
    }
   ],
   "source": [
    "J1 = -y1*np.log(yh)-(1-y1)*np.log(1-yh)\n",
    "J2 = -y2*np.log(yh)-(1-y2)*np.log(1-yh)\n",
    "J = -y1*np.log(yh)-(1-y2)*np.log(1-yh)\n",
    "\n",
    "fig,ax = plt.subplots(figsize=(8,8))\n",
    "\n",
    "plt.rcParams[\"font.size\"] = 20\n",
    "plt.scatter(yh,J1,label='if y = 1')\n",
    "plt.scatter(yh,J2,label='if y = 0')\n",
    "plt.scatter(yh,J,label='LOSS')\n",
    "plt.legend();"
   ]
  },
  {
   "cell_type": "code",
   "execution_count": 132,
   "id": "964c70b3",
   "metadata": {},
   "outputs": [],
   "source": [
    "from sklearn.datasets import load_iris\n",
    "data = load_iris().data\n",
    "target = load_iris().target.reshape(-1,1)"
   ]
  },
  {
   "cell_type": "code",
   "execution_count": 133,
   "id": "7bbb4de8",
   "metadata": {},
   "outputs": [
    {
     "data": {
      "text/plain": [
       "(150, 5)"
      ]
     },
     "execution_count": 133,
     "metadata": {},
     "output_type": "execute_result"
    }
   ],
   "source": [
    "import pandas as pd\n",
    "\n",
    "iris = np.concatenate([data,target],axis=1)\n",
    "iris = pd.DataFrame(iris)\n",
    "iris.shape"
   ]
  },
  {
   "cell_type": "code",
   "execution_count": 134,
   "id": "e81a09ce",
   "metadata": {},
   "outputs": [],
   "source": [
    "disp = False\n",
    "if disp == True:\n",
    "    sna.parplot(iris,palette='tab10');"
   ]
  },
  {
   "cell_type": "code",
   "execution_count": 135,
   "id": "0efaef77",
   "metadata": {},
   "outputs": [
    {
     "name": "stdout",
     "output_type": "stream",
     "text": [
      "iris_x.shape: (100, 2)\n",
      "iris_y.shape: (100,)\n"
     ]
    }
   ],
   "source": [
    "iris_x =  iris.loc[iris[4]!=0,2:3].values\n",
    "iris_y =  iris.loc[iris[4]!=0,4].values\n",
    "print('iris_x.shape:',iris_x.shape)\n",
    "print('iris_y.shape:',iris_y.shape)"
   ]
  },
  {
   "cell_type": "code",
   "execution_count": 136,
   "id": "bba0857b",
   "metadata": {},
   "outputs": [
    {
     "name": "stdout",
     "output_type": "stream",
     "text": [
      "x_train.shape: (80, 2)\n",
      "y_train.shape: (80,)\n",
      "x_valid.shape: (20, 2)\n",
      "y_valid.shape: (20,)\n"
     ]
    }
   ],
   "source": [
    "from sklearn.model_selection  import train_test_split\n",
    "x = iris_x\n",
    "y = iris_y\n",
    "\n",
    "x_train, x_valid, y_train, y_valid =\\\n",
    "train_test_split(x,y,train_size=0.8,random_state=0)\n",
    "\n",
    "print('x_train.shape:',x_train.shape)\n",
    "print('y_train.shape:',y_train.shape)\n",
    "print('x_valid.shape:',x_valid.shape)\n",
    "print('y_valid.shape:',y_valid.shape)\n"
   ]
  },
  {
   "cell_type": "code",
   "execution_count": 137,
   "id": "67720c45",
   "metadata": {},
   "outputs": [
    {
     "data": {
      "text/plain": [
       "array([1., 2.])"
      ]
     },
     "execution_count": 137,
     "metadata": {},
     "output_type": "execute_result"
    }
   ],
   "source": [
    "np.unique(y)"
   ]
  },
  {
   "cell_type": "code",
   "execution_count": 138,
   "id": "6541c636",
   "metadata": {},
   "outputs": [],
   "source": [
    "from sklearn.preprocessing import StandardScaler\n",
    "\n",
    "scaler = StandardScaler()\n",
    "scaler.fit(x_train)\n",
    "x_train_std = scaler.transform(x_train)\n",
    "x_valid_std = scaler.transform(x_valid)"
   ]
  },
  {
   "cell_type": "code",
   "execution_count": 139,
   "id": "fd01e02c",
   "metadata": {},
   "outputs": [],
   "source": [
    "clf = ScratchLogisticRegression(num_iter=500, lr=0.01, C=0.01, verbose=False)\n",
    "clf.fit(x_train_std,y_train,x_valid_std,y_valid)\n",
    "\n",
    "\n",
    "\n",
    "y_pred  = clf.predict(x_valid_std)\n",
    "y_prob = clf.predict_proba(x_valid_std)\n"
   ]
  },
  {
   "cell_type": "code",
   "execution_count": 140,
   "id": "3c0ce1e0",
   "metadata": {},
   "outputs": [
    {
     "data": {
      "text/plain": [
       "array([1., 2., 1., 2., 2., 2., 1., 2., 2., 2., 2., 2., 2., 1., 1., 1., 1.,\n",
       "       1., 1., 1.])"
      ]
     },
     "execution_count": 140,
     "metadata": {},
     "output_type": "execute_result"
    }
   ],
   "source": [
    "y_valid"
   ]
  },
  {
   "cell_type": "code",
   "execution_count": 141,
   "id": "4593b10f",
   "metadata": {},
   "outputs": [
    {
     "data": {
      "text/plain": [
       "array([1., 2., 1., 2., 2., 2., 1., 2., 2., 2., 2., 2., 2., 1., 1., 1., 1.,\n",
       "       1., 2., 1.])"
      ]
     },
     "execution_count": 141,
     "metadata": {},
     "output_type": "execute_result"
    }
   ],
   "source": [
    "y_pred"
   ]
  },
  {
   "cell_type": "code",
   "execution_count": 142,
   "id": "821bc418",
   "metadata": {},
   "outputs": [
    {
     "data": {
      "text/plain": [
       "array([0.4572835 , 0.65171443, 0.478553  , 0.67653776, 0.59790289,\n",
       "       0.65797074, 0.45042244, 0.5213983 , 0.63849115, 0.61213567,\n",
       "       0.57043138, 0.54967787, 0.61185054, 0.45027383, 0.30488465,\n",
       "       0.34851387, 0.478553  , 0.40857732, 0.50697032, 0.4292266 ])"
      ]
     },
     "execution_count": 142,
     "metadata": {},
     "output_type": "execute_result"
    }
   ],
   "source": [
    "y_prob"
   ]
  },
  {
   "cell_type": "code",
   "execution_count": 143,
   "id": "8ca7e0ae",
   "metadata": {},
   "outputs": [
    {
     "name": "stdout",
     "output_type": "stream",
     "text": [
      "accuracy 0.95\n",
      "prcision 1.0\n",
      "recall 0.9\n",
      "f1 0.9473684210526316\n"
     ]
    }
   ],
   "source": [
    "from sklearn.metrics import accuracy_score\n",
    "from sklearn.metrics import precision_score\n",
    "from sklearn.metrics import recall_score\n",
    "from sklearn.metrics import f1_score\n",
    "\n",
    "accuracy = accuracy_score(y_valid, y_pred)\n",
    "precision = precision_score(y_valid, y_pred)\n",
    "recall = recall_score(y_valid, y_pred)\n",
    "f1 = f1_score(y_valid, y_pred)\n",
    "\n",
    "print('accuracy',accuracy)\n",
    "print('prcision',precision)\n",
    "print('recall',recall)\n",
    "print('f1',f1)"
   ]
  },
  {
   "cell_type": "code",
   "execution_count": 144,
   "id": "b1a50125",
   "metadata": {},
   "outputs": [],
   "source": [
    "from sklearn.linear_model import LogisticRegression\n",
    "clf2 = LogisticRegression()\n",
    "clf2.fit(x_train_std,y_train)\n",
    "\n",
    "y_pred2  = clf2.predict(x_valid_std)\n",
    "y_prob2 = clf2.predict_proba(x_valid_std)[:,1]\n"
   ]
  },
  {
   "cell_type": "code",
   "execution_count": 145,
   "id": "6c6bd38f",
   "metadata": {},
   "outputs": [
    {
     "data": {
      "text/plain": [
       "array([1., 2., 1., 2., 2., 2., 1., 2., 2., 2., 2., 2., 2., 1., 1., 1., 1.,\n",
       "       1., 2., 1.])"
      ]
     },
     "execution_count": 145,
     "metadata": {},
     "output_type": "execute_result"
    }
   ],
   "source": [
    "y_pred2"
   ]
  },
  {
   "cell_type": "code",
   "execution_count": 146,
   "id": "ec6b5cac",
   "metadata": {},
   "outputs": [
    {
     "data": {
      "text/plain": [
       "array([0.23262094, 0.99566933, 0.38251422, 0.99870075, 0.97650782,\n",
       "       0.99684024, 0.18094291, 0.70926963, 0.99356414, 0.98110349,\n",
       "       0.936804  , 0.86579625, 0.98315914, 0.18979525, 0.00101915,\n",
       "       0.00581198, 0.38251422, 0.05024309, 0.62094489, 0.10284353])"
      ]
     },
     "execution_count": 146,
     "metadata": {},
     "output_type": "execute_result"
    }
   ],
   "source": [
    "y_prob2"
   ]
  },
  {
   "cell_type": "code",
   "execution_count": 147,
   "id": "56ffcc97",
   "metadata": {},
   "outputs": [
    {
     "name": "stdout",
     "output_type": "stream",
     "text": [
      "accuracy 0.95\n",
      "prcision 1.0\n",
      "recall 0.9\n",
      "f1 0.9473684210526316\n"
     ]
    }
   ],
   "source": [
    "accuracy = accuracy_score(y_valid, y_pred2)\n",
    "precision = precision_score(y_valid, y_pred2)\n",
    "recall = recall_score(y_valid, y_pred2)\n",
    "f1 = f1_score(y_valid, y_pred2)\n",
    "\n",
    "print('accuracy',accuracy)\n",
    "print('prcision',precision)\n",
    "print('recall',recall)\n",
    "print('f1',f1)"
   ]
  },
  {
   "cell_type": "code",
   "execution_count": 148,
   "id": "d7d48f2e",
   "metadata": {},
   "outputs": [
    {
     "data": {
      "image/png": "[encoded data removed]",
      "text/plain": [
       "<Figure size 1152x648 with 1 Axes>"
      ]
     },
     "metadata": {
      "needs_background": "light"
     },
     "output_type": "display_data"
    }
   ],
   "source": [
    "fig,ax = plt.subplots(figsize=(16,9))\n",
    "\n",
    "plt.rcParams[\"font.size\"] = 20\n",
    "plt.scatter(range(len(clf.loss)),clf.loss,label='TRAIN')\n",
    "plt.scatter(range(len(clf.loss)),clf.val_loss,label='VARID')\n",
    "plt.legend();"
   ]
  },
  {
   "cell_type": "code",
   "execution_count": 149,
   "id": "7030c49a",
   "metadata": {},
   "outputs": [],
   "source": [
    "from matplotlib.colors import ListedColormap\n",
    "import matplotlib.patches as mpatches\n",
    "\n",
    "def decision_region(X,y,model,step=0.01,\n",
    "                    title='decision region',\n",
    "                    xlabel='xlabel',\n",
    "                    ylabel='ylabel',\n",
    "                    target_names=['versicolor', 'virginica']):\n",
    "    \n",
    "    # setting\n",
    "    scatter_color = ['red', 'blue']\n",
    "    contourf_color = ['pink', 'skyblue']\n",
    "    n_class = 2\n",
    "    \n",
    "    # pred\n",
    "    mesh_f0, mesh_f1  = np.meshgrid(np.arange(np.min(X[:,0])-0.5, np.max(X[:,0])+0.5, step), np.arange(np.min(X[:,1])-0.5, np.max(X[:,1])+0.5, step))\n",
    "    mesh = np.c_[np.ravel(mesh_f0),np.ravel(mesh_f1)]\n",
    "    y_pred = model.predict(mesh).reshape(mesh_f0.shape)\n",
    "    \n",
    "    # plot\n",
    "    plt.title(title)\n",
    "    plt.xlabel(xlabel)\n",
    "    plt.ylabel(ylabel)\n",
    "    plt.contourf(mesh_f0, mesh_f1, y_pred, n_class-1, cmap=ListedColormap(contourf_color))\n",
    "    plt.contour(mesh_f0, mesh_f1, y_pred, n_class-1, colors='y', linewidths=3, alpha=0.5)\n",
    "    for i, target in enumerate(set(y)):\n",
    "        plt.scatter(X[y==target][:, 0], X[y==target][:, 1], s=80, color=scatter_color[i], label=target_names[i], marker='o')\n",
    "    patches = [mpatches.Patch(color=scatter_color[i], label=target_names[i]) for i in range(n_class)]\n",
    "    plt.legend(handles=patches)\n",
    "    plt.legend()\n",
    "    plt.show()\n",
    "\n",
    "\n",
    "\n",
    "\n",
    "\n",
    "\n",
    "\n"
   ]
  },
  {
   "cell_type": "code",
   "execution_count": 150,
   "id": "840995c6",
   "metadata": {},
   "outputs": [
    {
     "data": {
      "image/png": "[encoded data removed]",
      "text/plain": [
       "<Figure size 1152x648 with 1 Axes>"
      ]
     },
     "metadata": {
      "needs_background": "light"
     },
     "output_type": "display_data"
    }
   ],
   "source": [
    "fit,ax = plt.subplots(figsize=(16,9))\n",
    "decision_region(x_train_std,y_train,clf,title='TRAIN');"
   ]
  },
  {
   "cell_type": "code",
   "execution_count": 151,
   "id": "546b08e9",
   "metadata": {},
   "outputs": [
    {
     "data": {
      "image/png": "[encoded data removed]",
      "text/plain": [
       "<Figure size 1152x648 with 1 Axes>"
      ]
     },
     "metadata": {
      "needs_background": "light"
     },
     "output_type": "display_data"
    }
   ],
   "source": [
    "fit,ax = plt.subplots(figsize=(16,9))\n",
    "decision_region(x_valid_std,y_valid,clf,title='VALID');"
   ]
  },
  {
   "cell_type": "code",
   "execution_count": 152,
   "id": "b6424d8c",
   "metadata": {},
   "outputs": [
    {
     "data": {
      "text/plain": [
       "array([0.77496155, 0.23537636, 0.24334927])"
      ]
     },
     "execution_count": 152,
     "metadata": {},
     "output_type": "execute_result"
    }
   ],
   "source": [
    "#problem 8\n",
    "np.load('theta.npy')"
   ]
  },
  {
   "cell_type": "code",
   "execution_count": null,
   "id": "ac2a2b5a",
   "metadata": {},
   "outputs": [],
   "source": []
  }
 ],
 "metadata": {
  "kernelspec": {
   "display_name": "Python 3 (ipykernel)",
   "language": "python",
   "name": "python3"
  },
  "language_info": {
   "codemirror_mode": {
    "name": "ipython",
    "version": 3
   },
   "file_extension": ".py",
   "mimetype": "text/x-python",
   "name": "python",
   "nbconvert_exporter": "python",
   "pygments_lexer": "ipython3",
   "version": "3.9.12"
  }
 },
 "nbformat": 4,
 "nbformat_minor": 5
}
