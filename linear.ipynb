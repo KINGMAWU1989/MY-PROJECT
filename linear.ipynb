{
 "cells": [
  {
   "cell_type": "code",
   "execution_count": 1,
   "id": "799b4a1c",
   "metadata": {},
   "outputs": [],
   "source": [
    "import numpy as np\n",
    "import pandas as pd"
   ]
  },
  {
   "cell_type": "code",
   "execution_count": 2,
   "id": "2c48d536",
   "metadata": {},
   "outputs": [],
   "source": [
    "class ScratchLinearRegression():\n",
    "    \"\"\"\n",
    "    Scratch implementation of linear regression\n",
    "    \n",
    "    Parameters\n",
    "    ----------\n",
    "    num_iter : int\n",
    "      Number of iterations\n",
    "    lr : float\n",
    "      Learning rate\n",
    "    no_bias : bool\n",
    "      True if no bias term is included\n",
    "    verbose : bool\n",
    "      True to output the learning process\n",
    "    \n",
    "    Attributes\n",
    "    ----------\n",
    "    self.coef_ : ndarray, shape (n_features,)\n",
    "      Parameters\n",
    "    self.loss : ndarray, shape (self.iter,)\n",
    "      Record losses on training data\n",
    "    self.val_loss : ndarray, shape (self.iter,)\n",
    "      Record loss on validation data\n",
    "    \"\"\"\n",
    "    \n",
    "    def __init__(self, num_iter=1000, lr=0.01, no_bias=False, verbose=False):\n",
    "        # Record hyperparameters as attributes\n",
    "        self.iter = num_iter\n",
    "        self.lr = lr\n",
    "        self.no_bias = no_bias\n",
    "        self.verbose = verbose\n",
    "        # Prepare an array to record the loss\n",
    "        self.loss = np.zeros(self.iter)\n",
    "        self.val_loss = np.zeros(self.iter)\n",
    "        \n",
    "    def fit(self, X, y, X_val=None, y_val=None):\n",
    "        \"\"\"\n",
    "        Learn linear regression. If validation data is entered, \n",
    "        the loss and accuracy for it are also calculated for each iteration.\n",
    "        Parameters\n",
    "        ----------\n",
    "        X : ndarray, shape (n_samples, n_features)\n",
    "            Features of training data\n",
    "        y : ndarray, shape (n_samples,)\n",
    "            Correct answer value of training data\n",
    "        X_val : ndarray, shape (n_samples, n_features)\n",
    "            Features of verification data\n",
    "        y_val : ndarray, shape (n_samples,)\n",
    "            Correct value of verification data\n",
    "        \"\"\"\n",
    "        n_samples = X.shape[0]\n",
    "        n_features = X.shape[1]\n",
    "        \n",
    "        if not self.no_bias:\n",
    "            # Append bias column to X\n",
    "            X = np.hstack([np.ones([n_samples, 1]), X])\n",
    "        \n",
    "        # Prepare theta for hypotheis function\n",
    "        self.theta = np.random.rand(n_features + (1 - self.no_bias))\n",
    "        \n",
    "        for i in range(self.iter):\n",
    "            y_hyp = self._linear_hypothesis(X)\n",
    "            self.theta = self._gradient_descent(X, y, y_hyp)\n",
    "            self.loss[i] = self._loss_function(y_hyp, y)\n",
    "            \n",
    "            if X_val is not None and y_val is not None:\n",
    "                y_predict = self.predict(X_val)\n",
    "                self.val_loss[i] = self._loss_function(y_predict, y_val)\n",
    "                \n",
    "        if self.verbose:\n",
    "            #Output learning process when verbose is set to True\n",
    "            print(\"Loss: {}\".format(self.loss))\n",
    "            print(\"Val_loss: {}\".format(self.val_loss))\n",
    "        pass\n",
    "        \n",
    "    def predict(self, X):\n",
    "        \"\"\"\n",
    "        Estimate using linear regression.\n",
    "        Parameters\n",
    "        ----------\n",
    "        X : The following forms of ndarray, shape (n_samples, n_features)\n",
    "            sample\n",
    "        Returns\n",
    "        -------\n",
    "            ndarray, shape (n_samples, 1)\n",
    "            Estimated result by linear regression\n",
    "        \"\"\"\n",
    "        if not self.no_bias:\n",
    "            n_samples = X.shape[0]\n",
    "            X = np.hstack([np.ones([n_samples, 1]), X])\n",
    "        return np.dot(X, self.theta.T)\n",
    "    \n",
    "    def _linear_hypothesis(self, X):\n",
    "        \"\"\"\n",
    "        Compute a linear hypothetical function\n",
    "        Parameters\n",
    "        ----------\n",
    "        X : The following forms of ndarray, shape (n_samples, n_features)\n",
    "          Training data\n",
    "        Returns\n",
    "        -------\n",
    "          ndarray, shape (n_samples, 1)\n",
    "          Estimated result by linear hypothetical function\n",
    "        \"\"\"\n",
    "        y_hyp = np.dot(X, self.theta.T)\n",
    "        return y_hyp\n",
    "    \n",
    "    def _gradient_descent(self, X, y, y_hyp):\n",
    "        \"\"\"\n",
    "        Update new theta j in the steepest decent method\n",
    "        Parameters\n",
    "        ----------\n",
    "        X: ndarray, shape (n_samples, n_features)\n",
    "            Training data\n",
    "        y: ndarray, shape (n_samples,)\n",
    "            Correct answer value of training data\n",
    "        y_hyp: ndarray, shape (n_samples, 1)\n",
    "        Returns\n",
    "        -------\n",
    "        update_theta: ndarray, shape (n_features, 1)\n",
    "          New theta value\n",
    "        \"\"\"\n",
    "        n_samples = X.shape[0]\n",
    "        update_theta = self.theta - (self.lr * np.dot((y_hyp - y), X) / n_samples)\n",
    "        return update_theta\n",
    "    \n",
    "    def _loss_function(self, y_pred, y):\n",
    "        \"\"\"\n",
    "        Calculation of objective function.\n",
    "        Parameters\n",
    "        ----------\n",
    "        y_pred : The following forms of ndarray, shape (n_samples,)\n",
    "          Estimated value\n",
    "        y : The following forms of ndarray, shape (n_samples,)\n",
    "          Correct answer value\n",
    "        Returns\n",
    "        ----------\n",
    "        loss: numpy.float\n",
    "          Result of the loss function\n",
    "        \"\"\"\n",
    "        loss = np.mean((y_pred - y) ** 2)\n",
    "        return loss\n",
    "        \n",
    "\n",
    "def MSE(y_pred, y):\n",
    "    \"\"\"\n",
    "    Calculation of mean square error\n",
    "    Parameters\n",
    "    ----------\n",
    "    y_pred : The following forms of ndarray, shape (n_samples,)\n",
    "      Estimated value\n",
    "    y : The following forms of ndarray, shape (n_samples,)\n",
    "      Correct answer value\n",
    "    Returns\n",
    "    ----------\n",
    "    mse : numpy.float\n",
    "      Mean squared error\n",
    "    \"\"\"\n",
    "    n_samples = y.shape[0]\n",
    "    mse = np.mean((y_pred - y)[1:] ** 2)\n",
    "    return mse"
   ]
  },
  {
   "cell_type": "code",
   "execution_count": 3,
   "id": "c7de7afb",
   "metadata": {},
   "outputs": [
    {
     "data": {
      "text/plain": [
       "(5, 2)"
      ]
     },
     "execution_count": 3,
     "metadata": {},
     "output_type": "execute_result"
    }
   ],
   "source": [
    "X = np.array([\n",
    "    [1, 2],\n",
    "    [3, 4],\n",
    "    [5, 6],\n",
    "    [7, 8],\n",
    "    [9, 10]\n",
    "])\n",
    "X.shape\n"
   ]
  },
  {
   "cell_type": "code",
   "execution_count": 4,
   "id": "b43d6a3d",
   "metadata": {},
   "outputs": [
    {
     "data": {
      "text/plain": [
       "(5,)"
      ]
     },
     "execution_count": 4,
     "metadata": {},
     "output_type": "execute_result"
    }
   ],
   "source": [
    "# Let y = 2x1 + 1x2\n",
    "y = np.array([4, 10, 16, 22, 28])\n",
    "y.shape"
   ]
  },
  {
   "cell_type": "code",
   "execution_count": 5,
   "id": "3d5ab60a",
   "metadata": {},
   "outputs": [],
   "source": [
    "slr = ScratchLinearRegression(100, 0.01, False, True)"
   ]
  },
  {
   "cell_type": "code",
   "execution_count": 6,
   "id": "98f8aebb",
   "metadata": {},
   "outputs": [
    {
     "name": "stdout",
     "output_type": "stream",
     "text": [
      "Loss: [1.47705428e+02 7.42814931e+00 4.46246208e-01 9.82932041e-02\n",
      " 8.05066650e-02 7.91550007e-02 7.86241574e-02 7.81370250e-02\n",
      " 7.76549101e-02 7.71758694e-02 7.66997888e-02 7.62266452e-02\n",
      " 7.57564204e-02 7.52890963e-02 7.48246550e-02 7.43630788e-02\n",
      " 7.39043499e-02 7.34484508e-02 7.29953640e-02 7.25450723e-02\n",
      " 7.20975582e-02 7.16528048e-02 7.12107950e-02 7.07715118e-02\n",
      " 7.03349385e-02 6.99010583e-02 6.94698546e-02 6.90413108e-02\n",
      " 6.86154107e-02 6.81921379e-02 6.77714761e-02 6.73534093e-02\n",
      " 6.69379215e-02 6.65249967e-02 6.61146191e-02 6.57067731e-02\n",
      " 6.53014430e-02 6.48986133e-02 6.44982685e-02 6.41003934e-02\n",
      " 6.37049727e-02 6.33119912e-02 6.29214339e-02 6.25332859e-02\n",
      " 6.21475323e-02 6.17641584e-02 6.13831493e-02 6.10044907e-02\n",
      " 6.06281679e-02 6.02541665e-02 5.98824723e-02 5.95130710e-02\n",
      " 5.91459484e-02 5.87810905e-02 5.84184833e-02 5.80581130e-02\n",
      " 5.76999657e-02 5.73440278e-02 5.69902856e-02 5.66387255e-02\n",
      " 5.62893341e-02 5.59420980e-02 5.55970039e-02 5.52540387e-02\n",
      " 5.49131891e-02 5.45744421e-02 5.42377848e-02 5.39032043e-02\n",
      " 5.35706877e-02 5.32402223e-02 5.29117955e-02 5.25853947e-02\n",
      " 5.22610074e-02 5.19386211e-02 5.16182236e-02 5.12998026e-02\n",
      " 5.09833458e-02 5.06688411e-02 5.03562766e-02 5.00456402e-02\n",
      " 4.97369200e-02 4.94301043e-02 4.91251812e-02 4.88221392e-02\n",
      " 4.85209665e-02 4.82216517e-02 4.79241833e-02 4.76285500e-02\n",
      " 4.73347403e-02 4.70427431e-02 4.67525471e-02 4.64641413e-02\n",
      " 4.61775146e-02 4.58926560e-02 4.56095547e-02 4.53281997e-02\n",
      " 4.50485804e-02 4.47706860e-02 4.44945058e-02 4.42200293e-02]\n",
      "Val_loss: [0. 0. 0. 0. 0. 0. 0. 0. 0. 0. 0. 0. 0. 0. 0. 0. 0. 0. 0. 0. 0. 0. 0. 0.\n",
      " 0. 0. 0. 0. 0. 0. 0. 0. 0. 0. 0. 0. 0. 0. 0. 0. 0. 0. 0. 0. 0. 0. 0. 0.\n",
      " 0. 0. 0. 0. 0. 0. 0. 0. 0. 0. 0. 0. 0. 0. 0. 0. 0. 0. 0. 0. 0. 0. 0. 0.\n",
      " 0. 0. 0. 0. 0. 0. 0. 0. 0. 0. 0. 0. 0. 0. 0. 0. 0. 0. 0. 0. 0. 0. 0. 0.\n",
      " 0. 0. 0. 0.]\n"
     ]
    }
   ],
   "source": [
    "theta = slr.fit(X, y)"
   ]
  },
  {
   "cell_type": "code",
   "execution_count": 7,
   "id": "21bded46",
   "metadata": {},
   "outputs": [
    {
     "data": {
      "text/plain": [
       "array([ 4.35911072, 10.22675535, 16.09439997, 21.96204459, 27.82968922])"
      ]
     },
     "execution_count": 7,
     "metadata": {},
     "output_type": "execute_result"
    }
   ],
   "source": [
    "slr_predict = slr.predict(X)\n",
    "slr_predict"
   ]
  },
  {
   "cell_type": "code",
   "execution_count": 8,
   "id": "4bd71266",
   "metadata": {},
   "outputs": [
    {
     "data": {
      "text/plain": [
       "0.02269392941806149"
      ]
     },
     "execution_count": 8,
     "metadata": {},
     "output_type": "execute_result"
    }
   ],
   "source": [
    "MSE(y, slr_predict)"
   ]
  },
  {
   "cell_type": "code",
   "execution_count": 9,
   "id": "0b405db0",
   "metadata": {},
   "outputs": [
    {
     "data": {
      "text/html": [
       "<div>\n",
       "<style scoped>\n",
       "    .dataframe tbody tr th:only-of-type {\n",
       "        vertical-align: middle;\n",
       "    }\n",
       "\n",
       "    .dataframe tbody tr th {\n",
       "        vertical-align: top;\n",
       "    }\n",
       "\n",
       "    .dataframe thead th {\n",
       "        text-align: right;\n",
       "    }\n",
       "</style>\n",
       "<table border=\"1\" class=\"dataframe\">\n",
       "  <thead>\n",
       "    <tr style=\"text-align: right;\">\n",
       "      <th></th>\n",
       "      <th>Id</th>\n",
       "      <th>MSSubClass</th>\n",
       "      <th>MSZoning</th>\n",
       "      <th>LotFrontage</th>\n",
       "      <th>LotArea</th>\n",
       "      <th>Street</th>\n",
       "      <th>Alley</th>\n",
       "      <th>LotShape</th>\n",
       "      <th>LandContour</th>\n",
       "      <th>Utilities</th>\n",
       "      <th>...</th>\n",
       "      <th>PoolArea</th>\n",
       "      <th>PoolQC</th>\n",
       "      <th>Fence</th>\n",
       "      <th>MiscFeature</th>\n",
       "      <th>MiscVal</th>\n",
       "      <th>MoSold</th>\n",
       "      <th>YrSold</th>\n",
       "      <th>SaleType</th>\n",
       "      <th>SaleCondition</th>\n",
       "      <th>SalePrice</th>\n",
       "    </tr>\n",
       "  </thead>\n",
       "  <tbody>\n",
       "    <tr>\n",
       "      <th>0</th>\n",
       "      <td>1</td>\n",
       "      <td>60</td>\n",
       "      <td>RL</td>\n",
       "      <td>65.0</td>\n",
       "      <td>8450</td>\n",
       "      <td>Pave</td>\n",
       "      <td>NaN</td>\n",
       "      <td>Reg</td>\n",
       "      <td>Lvl</td>\n",
       "      <td>AllPub</td>\n",
       "      <td>...</td>\n",
       "      <td>0</td>\n",
       "      <td>NaN</td>\n",
       "      <td>NaN</td>\n",
       "      <td>NaN</td>\n",
       "      <td>0</td>\n",
       "      <td>2</td>\n",
       "      <td>2008</td>\n",
       "      <td>WD</td>\n",
       "      <td>Normal</td>\n",
       "      <td>208500</td>\n",
       "    </tr>\n",
       "    <tr>\n",
       "      <th>1</th>\n",
       "      <td>2</td>\n",
       "      <td>20</td>\n",
       "      <td>RL</td>\n",
       "      <td>80.0</td>\n",
       "      <td>9600</td>\n",
       "      <td>Pave</td>\n",
       "      <td>NaN</td>\n",
       "      <td>Reg</td>\n",
       "      <td>Lvl</td>\n",
       "      <td>AllPub</td>\n",
       "      <td>...</td>\n",
       "      <td>0</td>\n",
       "      <td>NaN</td>\n",
       "      <td>NaN</td>\n",
       "      <td>NaN</td>\n",
       "      <td>0</td>\n",
       "      <td>5</td>\n",
       "      <td>2007</td>\n",
       "      <td>WD</td>\n",
       "      <td>Normal</td>\n",
       "      <td>181500</td>\n",
       "    </tr>\n",
       "    <tr>\n",
       "      <th>2</th>\n",
       "      <td>3</td>\n",
       "      <td>60</td>\n",
       "      <td>RL</td>\n",
       "      <td>68.0</td>\n",
       "      <td>11250</td>\n",
       "      <td>Pave</td>\n",
       "      <td>NaN</td>\n",
       "      <td>IR1</td>\n",
       "      <td>Lvl</td>\n",
       "      <td>AllPub</td>\n",
       "      <td>...</td>\n",
       "      <td>0</td>\n",
       "      <td>NaN</td>\n",
       "      <td>NaN</td>\n",
       "      <td>NaN</td>\n",
       "      <td>0</td>\n",
       "      <td>9</td>\n",
       "      <td>2008</td>\n",
       "      <td>WD</td>\n",
       "      <td>Normal</td>\n",
       "      <td>223500</td>\n",
       "    </tr>\n",
       "    <tr>\n",
       "      <th>3</th>\n",
       "      <td>4</td>\n",
       "      <td>70</td>\n",
       "      <td>RL</td>\n",
       "      <td>60.0</td>\n",
       "      <td>9550</td>\n",
       "      <td>Pave</td>\n",
       "      <td>NaN</td>\n",
       "      <td>IR1</td>\n",
       "      <td>Lvl</td>\n",
       "      <td>AllPub</td>\n",
       "      <td>...</td>\n",
       "      <td>0</td>\n",
       "      <td>NaN</td>\n",
       "      <td>NaN</td>\n",
       "      <td>NaN</td>\n",
       "      <td>0</td>\n",
       "      <td>2</td>\n",
       "      <td>2006</td>\n",
       "      <td>WD</td>\n",
       "      <td>Abnorml</td>\n",
       "      <td>140000</td>\n",
       "    </tr>\n",
       "    <tr>\n",
       "      <th>4</th>\n",
       "      <td>5</td>\n",
       "      <td>60</td>\n",
       "      <td>RL</td>\n",
       "      <td>84.0</td>\n",
       "      <td>14260</td>\n",
       "      <td>Pave</td>\n",
       "      <td>NaN</td>\n",
       "      <td>IR1</td>\n",
       "      <td>Lvl</td>\n",
       "      <td>AllPub</td>\n",
       "      <td>...</td>\n",
       "      <td>0</td>\n",
       "      <td>NaN</td>\n",
       "      <td>NaN</td>\n",
       "      <td>NaN</td>\n",
       "      <td>0</td>\n",
       "      <td>12</td>\n",
       "      <td>2008</td>\n",
       "      <td>WD</td>\n",
       "      <td>Normal</td>\n",
       "      <td>250000</td>\n",
       "    </tr>\n",
       "  </tbody>\n",
       "</table>\n",
       "<p>5 rows × 81 columns</p>\n",
       "</div>"
      ],
      "text/plain": [
       "   Id  MSSubClass MSZoning  LotFrontage  LotArea Street Alley LotShape  \\\n",
       "0   1          60       RL         65.0     8450   Pave   NaN      Reg   \n",
       "1   2          20       RL         80.0     9600   Pave   NaN      Reg   \n",
       "2   3          60       RL         68.0    11250   Pave   NaN      IR1   \n",
       "3   4          70       RL         60.0     9550   Pave   NaN      IR1   \n",
       "4   5          60       RL         84.0    14260   Pave   NaN      IR1   \n",
       "\n",
       "  LandContour Utilities  ... PoolArea PoolQC Fence MiscFeature MiscVal MoSold  \\\n",
       "0         Lvl    AllPub  ...        0    NaN   NaN         NaN       0      2   \n",
       "1         Lvl    AllPub  ...        0    NaN   NaN         NaN       0      5   \n",
       "2         Lvl    AllPub  ...        0    NaN   NaN         NaN       0      9   \n",
       "3         Lvl    AllPub  ...        0    NaN   NaN         NaN       0      2   \n",
       "4         Lvl    AllPub  ...        0    NaN   NaN         NaN       0     12   \n",
       "\n",
       "  YrSold  SaleType  SaleCondition  SalePrice  \n",
       "0   2008        WD         Normal     208500  \n",
       "1   2007        WD         Normal     181500  \n",
       "2   2008        WD         Normal     223500  \n",
       "3   2006        WD        Abnorml     140000  \n",
       "4   2008        WD         Normal     250000  \n",
       "\n",
       "[5 rows x 81 columns]"
      ]
     },
     "execution_count": 9,
     "metadata": {},
     "output_type": "execute_result"
    }
   ],
   "source": [
    "df = pd.read_csv('train.csv')\n",
    "df.head()"
   ]
  },
  {
   "cell_type": "code",
   "execution_count": 10,
   "id": "0a354d1b",
   "metadata": {},
   "outputs": [],
   "source": [
    "X = df[['GrLivArea']].values\n",
    "y = df['SalePrice'].values"
   ]
  },
  {
   "cell_type": "code",
   "execution_count": 11,
   "id": "d70f4839",
   "metadata": {},
   "outputs": [
    {
     "name": "stdout",
     "output_type": "stream",
     "text": [
      "(1095, 1) (365, 1) (1095,) (365,)\n"
     ]
    }
   ],
   "source": [
    "from sklearn.model_selection import train_test_split\n",
    "X_train, X_test, y_train, y_test = train_test_split(X, y)\n",
    "print(X_train.shape, X_test.shape, y_train.shape, y_test.shape)"
   ]
  },
  {
   "cell_type": "code",
   "execution_count": 12,
   "id": "0cf192b2",
   "metadata": {},
   "outputs": [
    {
     "data": {
      "text/plain": [
       "array([[1710],\n",
       "       [1262],\n",
       "       [1786],\n",
       "       [1717],\n",
       "       [2198]], dtype=int64)"
      ]
     },
     "execution_count": 12,
     "metadata": {},
     "output_type": "execute_result"
    }
   ],
   "source": [
    "X[:5]"
   ]
  },
  {
   "cell_type": "code",
   "execution_count": 13,
   "id": "5f90c049",
   "metadata": {},
   "outputs": [
    {
     "data": {
      "text/plain": [
       "array([208500, 181500, 223500, 140000, 250000], dtype=int64)"
      ]
     },
     "execution_count": 13,
     "metadata": {},
     "output_type": "execute_result"
    }
   ],
   "source": [
    "y[:5]"
   ]
  },
  {
   "cell_type": "code",
   "execution_count": 14,
   "id": "03730aa4",
   "metadata": {},
   "outputs": [],
   "source": [
    "from sklearn.preprocessing import StandardScaler\n",
    "\n",
    "scaler = StandardScaler()\n",
    "scaler.fit(X_train)\n",
    "\n",
    "X_train_scaled = scaler.transform(X_train)\n",
    "X_test_scaled = scaler.transform(X_test)"
   ]
  },
  {
   "cell_type": "code",
   "execution_count": 15,
   "id": "91ad048c",
   "metadata": {},
   "outputs": [
    {
     "data": {
      "text/html": [
       "<div>\n",
       "<style scoped>\n",
       "    .dataframe tbody tr th:only-of-type {\n",
       "        vertical-align: middle;\n",
       "    }\n",
       "\n",
       "    .dataframe tbody tr th {\n",
       "        vertical-align: top;\n",
       "    }\n",
       "\n",
       "    .dataframe thead th {\n",
       "        text-align: right;\n",
       "    }\n",
       "</style>\n",
       "<table border=\"1\" class=\"dataframe\">\n",
       "  <thead>\n",
       "    <tr style=\"text-align: right;\">\n",
       "      <th></th>\n",
       "      <th>0</th>\n",
       "      <th>1</th>\n",
       "      <th>2</th>\n",
       "      <th>3</th>\n",
       "      <th>4</th>\n",
       "      <th>5</th>\n",
       "      <th>6</th>\n",
       "      <th>7</th>\n",
       "      <th>8</th>\n",
       "      <th>9</th>\n",
       "      <th>...</th>\n",
       "      <th>355</th>\n",
       "      <th>356</th>\n",
       "      <th>357</th>\n",
       "      <th>358</th>\n",
       "      <th>359</th>\n",
       "      <th>360</th>\n",
       "      <th>361</th>\n",
       "      <th>362</th>\n",
       "      <th>363</th>\n",
       "      <th>364</th>\n",
       "    </tr>\n",
       "  </thead>\n",
       "  <tbody>\n",
       "    <tr>\n",
       "      <th>0</th>\n",
       "      <td>136936.686931</td>\n",
       "      <td>205651.638184</td>\n",
       "      <td>267454.434576</td>\n",
       "      <td>160519.332923</td>\n",
       "      <td>195181.756558</td>\n",
       "      <td>113760.638284</td>\n",
       "      <td>149541.204617</td>\n",
       "      <td>176783.226711</td>\n",
       "      <td>209311.014286</td>\n",
       "      <td>188676.199043</td>\n",
       "      <td>...</td>\n",
       "      <td>113760.638284</td>\n",
       "      <td>267861.031921</td>\n",
       "      <td>215918.221137</td>\n",
       "      <td>174140.34397</td>\n",
       "      <td>239094.269784</td>\n",
       "      <td>185931.666966</td>\n",
       "      <td>175563.434677</td>\n",
       "      <td>184610.225596</td>\n",
       "      <td>166719.94243</td>\n",
       "      <td>177393.122728</td>\n",
       "    </tr>\n",
       "    <tr>\n",
       "      <th>1</th>\n",
       "      <td>88000.000000</td>\n",
       "      <td>212000.000000</td>\n",
       "      <td>325300.000000</td>\n",
       "      <td>254000.000000</td>\n",
       "      <td>227000.000000</td>\n",
       "      <td>129900.000000</td>\n",
       "      <td>164000.000000</td>\n",
       "      <td>213000.000000</td>\n",
       "      <td>189000.000000</td>\n",
       "      <td>272000.000000</td>\n",
       "      <td>...</td>\n",
       "      <td>58500.000000</td>\n",
       "      <td>129000.000000</td>\n",
       "      <td>124900.000000</td>\n",
       "      <td>97500.00000</td>\n",
       "      <td>274300.000000</td>\n",
       "      <td>232000.000000</td>\n",
       "      <td>160000.000000</td>\n",
       "      <td>277500.000000</td>\n",
       "      <td>166000.00000</td>\n",
       "      <td>184000.000000</td>\n",
       "    </tr>\n",
       "  </tbody>\n",
       "</table>\n",
       "<p>2 rows × 365 columns</p>\n",
       "</div>"
      ],
      "text/plain": [
       "             0              1              2              3              4    \\\n",
       "0  136936.686931  205651.638184  267454.434576  160519.332923  195181.756558   \n",
       "1   88000.000000  212000.000000  325300.000000  254000.000000  227000.000000   \n",
       "\n",
       "             5              6              7              8              9    \\\n",
       "0  113760.638284  149541.204617  176783.226711  209311.014286  188676.199043   \n",
       "1  129900.000000  164000.000000  213000.000000  189000.000000  272000.000000   \n",
       "\n",
       "   ...            355            356            357           358  \\\n",
       "0  ...  113760.638284  267861.031921  215918.221137  174140.34397   \n",
       "1  ...   58500.000000  129000.000000  124900.000000   97500.00000   \n",
       "\n",
       "             359            360            361            362           363  \\\n",
       "0  239094.269784  185931.666966  175563.434677  184610.225596  166719.94243   \n",
       "1  274300.000000  232000.000000  160000.000000  277500.000000  166000.00000   \n",
       "\n",
       "             364  \n",
       "0  177393.122728  \n",
       "1  184000.000000  \n",
       "\n",
       "[2 rows x 365 columns]"
      ]
     },
     "execution_count": 15,
     "metadata": {},
     "output_type": "execute_result"
    }
   ],
   "source": [
    "slr_house = ScratchLinearRegression()\n",
    "slr_house.fit(X_train_scaled, y_train, X_test_scaled, y_test)\n",
    "y_house_predict = slr_house.predict(X_test_scaled)\n",
    "\n",
    "pd.DataFrame([y_house_predict, y_test])"
   ]
  },
  {
   "cell_type": "code",
   "execution_count": 16,
   "id": "511961cf",
   "metadata": {},
   "outputs": [
    {
     "data": {
      "text/plain": [
       "3109017740.405539"
      ]
     },
     "execution_count": 16,
     "metadata": {},
     "output_type": "execute_result"
    }
   ],
   "source": [
    "MSE(y_house_predict, y_test)"
   ]
  },
  {
   "cell_type": "code",
   "execution_count": 17,
   "id": "2915a56d",
   "metadata": {},
   "outputs": [
    {
     "data": {
      "image/png": "[encoded data removed]",
      "text/plain": [
       "<Figure size 432x288 with 1 Axes>"
      ]
     },
     "metadata": {
      "needs_background": "light"
     },
     "output_type": "display_data"
    }
   ],
   "source": [
    "import matplotlib.pyplot as plt\n",
    "%matplotlib inline\n",
    "\n",
    "plt.title('Predict with Scratch Linear Regression')\n",
    "plt.xlabel('GrLivArea')\n",
    "plt.ylabel('SalePrice')\n",
    "plt.scatter(X_test, y_test, label='Truth value')\n",
    "plt.scatter(X_test, y_house_predict, label='Predicted value')\n",
    "plt.legend()\n",
    "plt.show()"
   ]
  },
  {
   "cell_type": "code",
   "execution_count": 18,
   "id": "cb38409b",
   "metadata": {},
   "outputs": [
    {
     "data": {
      "text/html": [
       "<div>\n",
       "<style scoped>\n",
       "    .dataframe tbody tr th:only-of-type {\n",
       "        vertical-align: middle;\n",
       "    }\n",
       "\n",
       "    .dataframe tbody tr th {\n",
       "        vertical-align: top;\n",
       "    }\n",
       "\n",
       "    .dataframe thead th {\n",
       "        text-align: right;\n",
       "    }\n",
       "</style>\n",
       "<table border=\"1\" class=\"dataframe\">\n",
       "  <thead>\n",
       "    <tr style=\"text-align: right;\">\n",
       "      <th></th>\n",
       "      <th>0</th>\n",
       "      <th>1</th>\n",
       "      <th>2</th>\n",
       "      <th>3</th>\n",
       "      <th>4</th>\n",
       "      <th>5</th>\n",
       "      <th>6</th>\n",
       "      <th>7</th>\n",
       "      <th>8</th>\n",
       "      <th>9</th>\n",
       "      <th>...</th>\n",
       "      <th>355</th>\n",
       "      <th>356</th>\n",
       "      <th>357</th>\n",
       "      <th>358</th>\n",
       "      <th>359</th>\n",
       "      <th>360</th>\n",
       "      <th>361</th>\n",
       "      <th>362</th>\n",
       "      <th>363</th>\n",
       "      <th>364</th>\n",
       "    </tr>\n",
       "  </thead>\n",
       "  <tbody>\n",
       "    <tr>\n",
       "      <th>Predicted value</th>\n",
       "      <td>136942.598904</td>\n",
       "      <td>205660.51675</td>\n",
       "      <td>267465.981323</td>\n",
       "      <td>160526.263017</td>\n",
       "      <td>195190.183114</td>\n",
       "      <td>113765.549689</td>\n",
       "      <td>149547.660757</td>\n",
       "      <td>176790.858957</td>\n",
       "      <td>209320.050837</td>\n",
       "      <td>188684.344738</td>\n",
       "      <td>...</td>\n",
       "      <td>113765.549689</td>\n",
       "      <td>267872.596221</td>\n",
       "      <td>215927.542938</td>\n",
       "      <td>174147.862117</td>\n",
       "      <td>239104.592152</td>\n",
       "      <td>185939.694173</td>\n",
       "      <td>175571.014261</td>\n",
       "      <td>184618.195753</td>\n",
       "      <td>166727.140219</td>\n",
       "      <td>177400.781305</td>\n",
       "    </tr>\n",
       "    <tr>\n",
       "      <th>Truth value</th>\n",
       "      <td>88000.000000</td>\n",
       "      <td>212000.00000</td>\n",
       "      <td>325300.000000</td>\n",
       "      <td>254000.000000</td>\n",
       "      <td>227000.000000</td>\n",
       "      <td>129900.000000</td>\n",
       "      <td>164000.000000</td>\n",
       "      <td>213000.000000</td>\n",
       "      <td>189000.000000</td>\n",
       "      <td>272000.000000</td>\n",
       "      <td>...</td>\n",
       "      <td>58500.000000</td>\n",
       "      <td>129000.000000</td>\n",
       "      <td>124900.000000</td>\n",
       "      <td>97500.000000</td>\n",
       "      <td>274300.000000</td>\n",
       "      <td>232000.000000</td>\n",
       "      <td>160000.000000</td>\n",
       "      <td>277500.000000</td>\n",
       "      <td>166000.000000</td>\n",
       "      <td>184000.000000</td>\n",
       "    </tr>\n",
       "  </tbody>\n",
       "</table>\n",
       "<p>2 rows × 365 columns</p>\n",
       "</div>"
      ],
      "text/plain": [
       "                           0             1              2              3    \\\n",
       "Predicted value  136942.598904  205660.51675  267465.981323  160526.263017   \n",
       "Truth value       88000.000000  212000.00000  325300.000000  254000.000000   \n",
       "\n",
       "                           4              5              6              7    \\\n",
       "Predicted value  195190.183114  113765.549689  149547.660757  176790.858957   \n",
       "Truth value      227000.000000  129900.000000  164000.000000  213000.000000   \n",
       "\n",
       "                           8              9    ...            355  \\\n",
       "Predicted value  209320.050837  188684.344738  ...  113765.549689   \n",
       "Truth value      189000.000000  272000.000000  ...   58500.000000   \n",
       "\n",
       "                           356            357            358            359  \\\n",
       "Predicted value  267872.596221  215927.542938  174147.862117  239104.592152   \n",
       "Truth value      129000.000000  124900.000000   97500.000000  274300.000000   \n",
       "\n",
       "                           360            361            362            363  \\\n",
       "Predicted value  185939.694173  175571.014261  184618.195753  166727.140219   \n",
       "Truth value      232000.000000  160000.000000  277500.000000  166000.000000   \n",
       "\n",
       "                           364  \n",
       "Predicted value  177400.781305  \n",
       "Truth value      184000.000000  \n",
       "\n",
       "[2 rows x 365 columns]"
      ]
     },
     "execution_count": 18,
     "metadata": {},
     "output_type": "execute_result"
    }
   ],
   "source": [
    "from sklearn.linear_model import LinearRegression\n",
    "from sklearn.metrics import mean_squared_error\n",
    "\n",
    "lr = LinearRegression()\n",
    "lr.fit(X_train_scaled, y_train)\n",
    "lr_predict = lr.predict(X_test_scaled)\n",
    "\n",
    "pd.DataFrame([lr_predict, y_test], index=['Predicted value', 'Truth value'])"
   ]
  },
  {
   "cell_type": "code",
   "execution_count": 19,
   "id": "d20cc2d7",
   "metadata": {},
   "outputs": [
    {
     "data": {
      "text/plain": [
       "3106949925.627036"
      ]
     },
     "execution_count": 19,
     "metadata": {},
     "output_type": "execute_result"
    }
   ],
   "source": [
    "mean_squared_error(y_test, lr_predict)"
   ]
  },
  {
   "cell_type": "code",
   "execution_count": 20,
   "id": "e43f4510",
   "metadata": {},
   "outputs": [
    {
     "data": {
      "image/png": "[encoded data removed]",
      "text/plain": [
       "<Figure size 432x288 with 1 Axes>"
      ]
     },
     "metadata": {
      "needs_background": "light"
     },
     "output_type": "display_data"
    }
   ],
   "source": [
    "plt.title('Learning Curve Plot')\n",
    "plt.xlabel('iter')\n",
    "plt.ylabel('loss')\n",
    "plt.scatter(range(slr_house.iter), slr_house.loss, label='train_loss')\n",
    "plt.scatter(range(slr_house.iter), slr_house.val_loss, label='val_loss')\n",
    "plt.legend()\n",
    "plt.show()\n"
   ]
  },
  {
   "cell_type": "code",
   "execution_count": 21,
   "id": "014dfec7",
   "metadata": {},
   "outputs": [
    {
     "data": {
      "text/html": [
       "<div>\n",
       "<style scoped>\n",
       "    .dataframe tbody tr th:only-of-type {\n",
       "        vertical-align: middle;\n",
       "    }\n",
       "\n",
       "    .dataframe tbody tr th {\n",
       "        vertical-align: top;\n",
       "    }\n",
       "\n",
       "    .dataframe thead th {\n",
       "        text-align: right;\n",
       "    }\n",
       "</style>\n",
       "<table border=\"1\" class=\"dataframe\">\n",
       "  <thead>\n",
       "    <tr style=\"text-align: right;\">\n",
       "      <th></th>\n",
       "      <th>0</th>\n",
       "      <th>1</th>\n",
       "      <th>2</th>\n",
       "      <th>3</th>\n",
       "      <th>4</th>\n",
       "      <th>5</th>\n",
       "      <th>6</th>\n",
       "      <th>7</th>\n",
       "      <th>8</th>\n",
       "      <th>9</th>\n",
       "      <th>...</th>\n",
       "      <th>355</th>\n",
       "      <th>356</th>\n",
       "      <th>357</th>\n",
       "      <th>358</th>\n",
       "      <th>359</th>\n",
       "      <th>360</th>\n",
       "      <th>361</th>\n",
       "      <th>362</th>\n",
       "      <th>363</th>\n",
       "      <th>364</th>\n",
       "    </tr>\n",
       "  </thead>\n",
       "  <tbody>\n",
       "    <tr>\n",
       "      <th>Predict value</th>\n",
       "      <td>-43181.102144</td>\n",
       "      <td>25533.849086</td>\n",
       "      <td>87336.645458</td>\n",
       "      <td>-19598.45616</td>\n",
       "      <td>15063.967463</td>\n",
       "      <td>-66357.150783</td>\n",
       "      <td>-30576.584463</td>\n",
       "      <td>-3334.562378</td>\n",
       "      <td>29193.225187</td>\n",
       "      <td>8558.409951</td>\n",
       "      <td>...</td>\n",
       "      <td>-66357.150783</td>\n",
       "      <td>87743.242802</td>\n",
       "      <td>35800.432036</td>\n",
       "      <td>-5977.445117</td>\n",
       "      <td>58976.480675</td>\n",
       "      <td>5813.877875</td>\n",
       "      <td>-4554.354411</td>\n",
       "      <td>4492.436505</td>\n",
       "      <td>-13397.846655</td>\n",
       "      <td>-2724.666361</td>\n",
       "    </tr>\n",
       "    <tr>\n",
       "      <th>Truth value</th>\n",
       "      <td>88000.000000</td>\n",
       "      <td>212000.000000</td>\n",
       "      <td>325300.000000</td>\n",
       "      <td>254000.00000</td>\n",
       "      <td>227000.000000</td>\n",
       "      <td>129900.000000</td>\n",
       "      <td>164000.000000</td>\n",
       "      <td>213000.000000</td>\n",
       "      <td>189000.000000</td>\n",
       "      <td>272000.000000</td>\n",
       "      <td>...</td>\n",
       "      <td>58500.000000</td>\n",
       "      <td>129000.000000</td>\n",
       "      <td>124900.000000</td>\n",
       "      <td>97500.000000</td>\n",
       "      <td>274300.000000</td>\n",
       "      <td>232000.000000</td>\n",
       "      <td>160000.000000</td>\n",
       "      <td>277500.000000</td>\n",
       "      <td>166000.000000</td>\n",
       "      <td>184000.000000</td>\n",
       "    </tr>\n",
       "  </tbody>\n",
       "</table>\n",
       "<p>2 rows × 365 columns</p>\n",
       "</div>"
      ],
      "text/plain": [
       "                        0              1              2             3    \\\n",
       "Predict value -43181.102144   25533.849086   87336.645458  -19598.45616   \n",
       "Truth value    88000.000000  212000.000000  325300.000000  254000.00000   \n",
       "\n",
       "                         4              5              6              7    \\\n",
       "Predict value   15063.967463  -66357.150783  -30576.584463   -3334.562378   \n",
       "Truth value    227000.000000  129900.000000  164000.000000  213000.000000   \n",
       "\n",
       "                         8              9    ...           355            356  \\\n",
       "Predict value   29193.225187    8558.409951  ... -66357.150783   87743.242802   \n",
       "Truth value    189000.000000  272000.000000  ...  58500.000000  129000.000000   \n",
       "\n",
       "                         357           358            359            360  \\\n",
       "Predict value   35800.432036  -5977.445117   58976.480675    5813.877875   \n",
       "Truth value    124900.000000  97500.000000  274300.000000  232000.000000   \n",
       "\n",
       "                         361            362            363            364  \n",
       "Predict value   -4554.354411    4492.436505  -13397.846655   -2724.666361  \n",
       "Truth value    160000.000000  277500.000000  166000.000000  184000.000000  \n",
       "\n",
       "[2 rows x 365 columns]"
      ]
     },
     "execution_count": 21,
     "metadata": {},
     "output_type": "execute_result"
    }
   ],
   "source": [
    "slr_nobias = ScratchLinearRegression(no_bias=True)\n",
    "slr_nobias.fit(X_train_scaled, y_train)\n",
    "slr_nobias_predict = slr_nobias.predict(X_test_scaled)\n",
    "\n",
    "pd.DataFrame([slr_nobias_predict, y_test], index=['Predict value', 'Truth value'])"
   ]
  },
  {
   "cell_type": "code",
   "execution_count": 22,
   "id": "a51fd26d",
   "metadata": {},
   "outputs": [
    {
     "data": {
      "image/png": "[encoded data removed]",
      "text/plain": [
       "<Figure size 432x288 with 1 Axes>"
      ]
     },
     "metadata": {
      "needs_background": "light"
     },
     "output_type": "display_data"
    }
   ],
   "source": [
    "plt.title('Predict with ScratchLinearRegression (no bias)')\n",
    "plt.xlabel('GrLivArea')\n",
    "plt.ylabel('SalePrice')\n",
    "plt.scatter(X_test, y_test, label='Truth value')\n",
    "plt.scatter(X_test, slr_nobias_predict, label='Predicted value')\n",
    "plt.legend()\n",
    "plt.show()"
   ]
  },
  {
   "cell_type": "code",
   "execution_count": 23,
   "id": "486f2ddd",
   "metadata": {},
   "outputs": [
    {
     "name": "stdout",
     "output_type": "stream",
     "text": [
      "(1095, 2) (365, 2) (1095,) (365,)\n"
     ]
    }
   ],
   "source": [
    "X = df[['GrLivArea', 'YearBuilt']].values\n",
    "y = df['SalePrice'].values\n",
    "\n",
    "X_train, X_test, y_train, y_test = train_test_split(X, y)\n",
    "print(X_train.shape, X_test.shape, y_train.shape, y_test.shape)"
   ]
  },
  {
   "cell_type": "code",
   "execution_count": 24,
   "id": "57bfe524",
   "metadata": {},
   "outputs": [
    {
     "data": {
      "text/html": [
       "<div>\n",
       "<style scoped>\n",
       "    .dataframe tbody tr th:only-of-type {\n",
       "        vertical-align: middle;\n",
       "    }\n",
       "\n",
       "    .dataframe tbody tr th {\n",
       "        vertical-align: top;\n",
       "    }\n",
       "\n",
       "    .dataframe thead th {\n",
       "        text-align: right;\n",
       "    }\n",
       "</style>\n",
       "<table border=\"1\" class=\"dataframe\">\n",
       "  <thead>\n",
       "    <tr style=\"text-align: right;\">\n",
       "      <th></th>\n",
       "      <th>0</th>\n",
       "      <th>1</th>\n",
       "      <th>2</th>\n",
       "      <th>3</th>\n",
       "      <th>4</th>\n",
       "      <th>5</th>\n",
       "      <th>6</th>\n",
       "      <th>7</th>\n",
       "      <th>8</th>\n",
       "      <th>9</th>\n",
       "      <th>...</th>\n",
       "      <th>355</th>\n",
       "      <th>356</th>\n",
       "      <th>357</th>\n",
       "      <th>358</th>\n",
       "      <th>359</th>\n",
       "      <th>360</th>\n",
       "      <th>361</th>\n",
       "      <th>362</th>\n",
       "      <th>363</th>\n",
       "      <th>364</th>\n",
       "    </tr>\n",
       "  </thead>\n",
       "  <tbody>\n",
       "    <tr>\n",
       "      <th>0</th>\n",
       "      <td>213151.967707</td>\n",
       "      <td>177310.975552</td>\n",
       "      <td>139762.202379</td>\n",
       "      <td>260411.482637</td>\n",
       "      <td>131929.735159</td>\n",
       "      <td>255837.343117</td>\n",
       "      <td>214276.893143</td>\n",
       "      <td>132736.516622</td>\n",
       "      <td>214110.206801</td>\n",
       "      <td>215805.20931</td>\n",
       "      <td>...</td>\n",
       "      <td>213056.524516</td>\n",
       "      <td>215490.259965</td>\n",
       "      <td>88433.158557</td>\n",
       "      <td>132251.686309</td>\n",
       "      <td>86831.017163</td>\n",
       "      <td>103186.284461</td>\n",
       "      <td>147403.783216</td>\n",
       "      <td>206688.744669</td>\n",
       "      <td>242868.27366</td>\n",
       "      <td>133780.002476</td>\n",
       "    </tr>\n",
       "    <tr>\n",
       "      <th>1</th>\n",
       "      <td>190000.000000</td>\n",
       "      <td>186700.000000</td>\n",
       "      <td>148000.000000</td>\n",
       "      <td>284000.000000</td>\n",
       "      <td>82000.000000</td>\n",
       "      <td>253000.000000</td>\n",
       "      <td>214000.000000</td>\n",
       "      <td>154500.000000</td>\n",
       "      <td>178000.000000</td>\n",
       "      <td>259000.00000</td>\n",
       "      <td>...</td>\n",
       "      <td>282922.000000</td>\n",
       "      <td>177500.000000</td>\n",
       "      <td>81000.000000</td>\n",
       "      <td>129000.000000</td>\n",
       "      <td>64500.000000</td>\n",
       "      <td>107500.000000</td>\n",
       "      <td>140000.000000</td>\n",
       "      <td>146000.000000</td>\n",
       "      <td>280000.00000</td>\n",
       "      <td>145000.000000</td>\n",
       "    </tr>\n",
       "  </tbody>\n",
       "</table>\n",
       "<p>2 rows × 365 columns</p>\n",
       "</div>"
      ],
      "text/plain": [
       "             0              1              2              3              4    \\\n",
       "0  213151.967707  177310.975552  139762.202379  260411.482637  131929.735159   \n",
       "1  190000.000000  186700.000000  148000.000000  284000.000000   82000.000000   \n",
       "\n",
       "             5              6              7              8             9    \\\n",
       "0  255837.343117  214276.893143  132736.516622  214110.206801  215805.20931   \n",
       "1  253000.000000  214000.000000  154500.000000  178000.000000  259000.00000   \n",
       "\n",
       "   ...            355            356           357            358  \\\n",
       "0  ...  213056.524516  215490.259965  88433.158557  132251.686309   \n",
       "1  ...  282922.000000  177500.000000  81000.000000  129000.000000   \n",
       "\n",
       "            359            360            361            362           363  \\\n",
       "0  86831.017163  103186.284461  147403.783216  206688.744669  242868.27366   \n",
       "1  64500.000000  107500.000000  140000.000000  146000.000000  280000.00000   \n",
       "\n",
       "             364  \n",
       "0  133780.002476  \n",
       "1  145000.000000  \n",
       "\n",
       "[2 rows x 365 columns]"
      ]
     },
     "execution_count": 24,
     "metadata": {},
     "output_type": "execute_result"
    }
   ],
   "source": [
    "scaler = StandardScaler()\n",
    "scaler.fit(X_train)\n",
    "\n",
    "X_train_scaled = scaler.transform(X_train)\n",
    "X_test_scaled = scaler.transform(X_test)\n",
    "\n",
    "\n",
    "slr_house = ScratchLinearRegression()\n",
    "slr_house.fit(X_train_scaled, y_train, X_test_scaled, y_test)\n",
    "y_house_predict = slr_house.predict(X_test_scaled)\n",
    "\n",
    "pd.DataFrame([y_house_predict, y_test])"
   ]
  },
  {
   "cell_type": "code",
   "execution_count": 25,
   "id": "2ffa58ed",
   "metadata": {},
   "outputs": [
    {
     "data": {
      "text/plain": [
       "2398291058.840334"
      ]
     },
     "execution_count": 25,
     "metadata": {},
     "output_type": "execute_result"
    }
   ],
   "source": [
    "MSE(y_house_predict, y_test)"
   ]
  },
  {
   "cell_type": "code",
   "execution_count": 26,
   "id": "536e495d",
   "metadata": {},
   "outputs": [
    {
     "data": {
      "image/png": "[encoded data removed]",
      "text/plain": [
       "<Figure size 432x288 with 1 Axes>"
      ]
     },
     "metadata": {
      "needs_background": "light"
     },
     "output_type": "display_data"
    },
    {
     "name": "stdout",
     "output_type": "stream",
     "text": [
      " -----------------------------------------------------------------\n"
     ]
    },
    {
     "data": {
      "image/png": "[encoded data removed]",
      "text/plain": [
       "<Figure size 432x288 with 1 Axes>"
      ]
     },
     "metadata": {
      "needs_background": "light"
     },
     "output_type": "display_data"
    }
   ],
   "source": [
    "plt.title('Predict with ScratchLinearRegression (GrLivArea & SalePrice)')\n",
    "plt.xlabel('GrLivArea')\n",
    "plt.ylabel('SalePrice')\n",
    "plt.scatter(X_test[:, 0], y_test, label='Truth value')\n",
    "plt.scatter(X_test[:, 0], y_house_predict, label='Predicted value')\n",
    "plt.legend()\n",
    "plt.show()\n",
    "\n",
    "print(\" -----------------------------------------------------------------\")\n",
    "\n",
    "\n",
    "plt.title('Predict with ScratchLinearRegression (YearBuilt & SalePrice)')\n",
    "plt.xlabel('YearBuilt')\n",
    "plt.ylabel('SalePrice')\n",
    "plt.scatter(X_test[:, 1], y_test, label='Truth value')\n",
    "plt.scatter(X_test[:, 1], y_house_predict, label='Predicted value')\n",
    "plt.legend()\n",
    "plt.show()"
   ]
  },
  {
   "cell_type": "code",
   "execution_count": null,
   "id": "53b93b92",
   "metadata": {},
   "outputs": [],
   "source": []
  },
  {
   "cell_type": "code",
   "execution_count": null,
   "id": "4ae909ef",
   "metadata": {},
   "outputs": [],
   "source": []
  },
  {
   "cell_type": "code",
   "execution_count": null,
   "id": "a95cbb03",
   "metadata": {},
   "outputs": [],
   "source": []
  }
 ],
 "metadata": {
  "kernelspec": {
   "display_name": "Python 3 (ipykernel)",
   "language": "python",
   "name": "python3"
  },
  "language_info": {
   "codemirror_mode": {
    "name": "ipython",
    "version": 3
   },
   "file_extension": ".py",
   "mimetype": "text/x-python",
   "name": "python",
   "nbconvert_exporter": "python",
   "pygments_lexer": "ipython3",
   "version": "3.9.12"
  }
 },
 "nbformat": 4,
 "nbformat_minor": 5
}
