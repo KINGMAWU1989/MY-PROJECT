{
 "cells": [
  {
   "cell_type": "code",
   "execution_count": 6,
   "id": "81be1ac5",
   "metadata": {},
   "outputs": [
    {
     "name": "stdout",
     "output_type": "stream",
     "text": [
      "it will take the chestnut bun 35mins to cover the solar system,\n"
     ]
    }
   ],
   "source": [
    "def solar_system(object_size):\n",
    "    \n",
    "    solar_system_size = 50000\n",
    "    time = 0\n",
    "    while True:\n",
    "        if object_size >= solar_system_size:\n",
    "            break\n",
    "        else:\n",
    "            object_size *= 2\n",
    "            time += 5\n",
    "    return print(\"it will take the chestnut bun {}mins to cover the solar system,\".format(time))\n",
    "solar_system(500)"
   ]
  },
  {
   "cell_type": "code",
   "execution_count": 8,
   "id": "99867313",
   "metadata": {},
   "outputs": [
    {
     "name": "stderr",
     "output_type": "stream",
     "text": [
      "No artists with labels found to put in legend.  Note that artists whose label start with an underscore are ignored when legend() is called with no argument.\n"
     ]
    },
    {
     "name": "stdout",
     "output_type": "stream",
     "text": [
      "it takes {} Minutes 15\n"
     ]
    },
    {
     "data": {
      "image/png": "[encoded data removed]",
      "text/plain": [
       "<Figure size 432x288 with 1 Axes>"
      ]
     },
     "metadata": {
      "needs_background": "light"
     },
     "output_type": "display_data"
    }
   ],
   "source": [
    "def Tokyo_Dome(object_size):\n",
    "    size_tokyo_dome = 50000\n",
    "    time = 0\n",
    "    minutes = []\n",
    "    size = []\n",
    "    while True:\n",
    "        if object_size >= size_tokyo_dome:\n",
    "            break\n",
    "        else:\n",
    "            object_size *= 2\n",
    "            time +=5\n",
    "            minutes.append(time)\n",
    "            size.append(object_size)\n",
    "            \n",
    "    import matplotlib.pyplot as plt\n",
    "    \n",
    "    plt.plot(minutes, size, 'b-o', linewidth=2, markersize=12, markeredgewidth=3, markeredgecolor='orange')\n",
    "    plt.xlabel('Time in minutes')\n",
    "    plt.ylabel('size of the object')\n",
    "    plt.title(\"Relating to Tokyo Dome Situation\")\n",
    "    plt.legend(loc='upper center')\n",
    "    print(\"it takes {} Minutes\", format(time))\n",
    "Tokyo_Dome(10000)"
   ]
  },
  {
   "cell_type": "code",
   "execution_count": null,
   "id": "99c168de",
   "metadata": {},
   "outputs": [],
   "source": []
  },
  {
   "cell_type": "code",
   "execution_count": null,
   "id": "0cbab44e",
   "metadata": {},
   "outputs": [],
   "source": [
    "\n"
   ]
  },
  {
   "cell_type": "code",
   "execution_count": null,
   "id": "9a9d5f99",
   "metadata": {},
   "outputs": [],
   "source": []
  }
 ],
 "metadata": {
  "kernelspec": {
   "display_name": "Python 3 (ipykernel)",
   "language": "python",
   "name": "python3"
  },
  "language_info": {
   "codemirror_mode": {
    "name": "ipython",
    "version": 3
   },
   "file_extension": ".py",
   "mimetype": "text/x-python",
   "name": "python",
   "nbconvert_exporter": "python",
   "pygments_lexer": "ipython3",
   "version": "3.9.12"
  }
 },
 "nbformat": 4,
 "nbformat_minor": 5
}
