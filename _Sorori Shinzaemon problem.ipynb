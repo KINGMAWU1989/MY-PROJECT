{
 "cells": [
  {
   "cell_type": "code",
   "execution_count": 13,
   "id": "10c5825f",
   "metadata": {},
   "outputs": [
    {
     "name": "stdout",
     "output_type": "stream",
     "text": [
      "problem\n",
      "on the 100th day he had 1,267,650,600,228,229,401,496,703,205,375 grains of rice\n"
     ]
    },
    {
     "data": {
      "text/plain": [
       "[]"
      ]
     },
     "execution_count": 13,
     "metadata": {},
     "output_type": "execute_result"
    },
    {
     "data": {
      "image/png": "[encoded data removed]",
      "text/plain": [
       "<Figure size 432x288 with 1 Axes>"
      ]
     },
     "metadata": {
      "needs_background": "light"
     },
     "output_type": "display_data"
    }
   ],
   "source": [
    "# problem 1\n",
    "print(\"problem\")\n",
    "import matplotlib.pyplot as plt\n",
    "GRAIN=1\n",
    "grains_per_day = []\n",
    "# alooop to calculate the number of grains in a 100 days\n",
    "for day in range(100):\n",
    "    if day == 0:\n",
    "        grains_per_day.append(GRAIN)\n",
    "    else:\n",
    "        grains_per_day.append((GRAIN*2)**day)\n",
    "print(\"on the 100th day he had {:,} grains of rice\".format(sum(grains_per_day)))\n",
    "     #the creation of the line graph\n",
    "plt.title ( \"* *Grains of the rice *\")\n",
    "plt.xlabel ( \"* *number of days  *\")\n",
    "plt.ylabel (\"* number og grains* *\")\n",
    "plt.plot(grains_per_day, linestyle='dashed' , linewidth=2, color='pink')\n",
    "plt.plot()"
   ]
  },
  {
   "cell_type": "code",
   "execution_count": 7,
   "id": "78bcb651",
   "metadata": {},
   "outputs": [
    {
     "name": "stdout",
     "output_type": "stream",
     "text": [
      "problem 2\n",
      "on the last day he had 1,023 grains of rices\n"
     ]
    },
    {
     "data": {
      "text/plain": [
       "[]"
      ]
     },
     "execution_count": 7,
     "metadata": {},
     "output_type": "execute_result"
    },
    {
     "data": {
      "image/png": "[encoded data removed]",
      "text/plain": [
       "<Figure size 432x288 with 1 Axes>"
      ]
     },
     "metadata": {
      "needs_background": "light"
     },
     "output_type": "display_data"
    }
   ],
   "source": [
    "\n",
    "print(\"problem 2\")\n",
    "def compute_sorori_shinzaemon(days=100):\n",
    "    PROBLEM2_GRAIN = 1\n",
    "    list_n_grains = []\n",
    "    list_total_grains = []\n",
    "    # alooop to calculate the number of grains in a 100 days\n",
    "    for problem2_day in range(days):\n",
    "        if problem2_day == 0:\n",
    "            list_n_grains.append(PROBLEM2_GRAIN)\n",
    "            list_total_grains.append(sum(list_n_grains))\n",
    "\n",
    "        else:\n",
    "            list_n_grains.append((PROBLEM2_GRAIN*2)**problem2_day)\n",
    "            list_total_grains.append(sum(list_n_grains))\n",
    "    pass\n",
    "    return list_n_grains, list_total_grains\n",
    "         \n",
    "list_n_grains, list_total_grains = compute_sorori_shinzaemon(days=10)\n",
    "       \n",
    "print(\"on the last day he had {:,} grains of rices\".format(list_total_grains[-1]))\n",
    "#the creation of the line graph\n",
    "                                                               \n",
    "import matplotlib.pyplot as plt                                                          \n",
    "plt.title ( \"* *Grains of the rices *\")\n",
    "plt.xlabel ( \"* *number of days  *\")\n",
    "plt.ylabel (\"* number og grains* *\")\n",
    "plt.plot(list_n_grains, linestyle='dashed' , linewidth=2, color='pink')\n",
    "plt.plot()"
   ]
  },
  {
   "cell_type": "markdown",
   "id": "690bba1d",
   "metadata": {},
   "source": [
    "# "
   ]
  },
  {
   "cell_type": "code",
   "execution_count": 20,
   "id": "33639e80",
   "metadata": {},
   "outputs": [
    {
     "name": "stdout",
     "output_type": "stream",
     "text": [
      "problem 3\n",
      "10,000,000people can eat 380,000,000,000 grains per day\n",
      "10,000,000 people, can survive on 1,267,650,600,228,229,401,496,703,205,375 grains in 3,335,922,632,179,551,056 days\n"
     ]
    }
   ],
   "source": [
    "#PROBLEM 3\n",
    "\n",
    "print(\"problem 3\")\n",
    "GRAINS_IN_A_BOWL = 19000\n",
    "GRAINS_EATEN_PER_DAY = GRAINS_IN_A_BOWL*2\n",
    "def compute_days_to_survive_on_the_rice(people,grains):\n",
    "    grains_to_eaten_by_all_people_per_day = people*GRAINS_EATEN_PER_DAY\n",
    "    print(\"{:,}people can eat {:,} grains per day\".format(people,grains_to_eaten_by_all_people_per_day))\n",
    "    days_they_can_survive_on_it = grains//grains_to_eaten_by_all_people_per_day\n",
    "    return days_they_can_survive_on_it\n",
    "people = 10000000\n",
    "grains = sum(grains_per_day)\n",
    "print(\"{:,} people, can survive on {:,} grains in {:,} days\".format(people,grains,compute_days_to_survive_on_the_rice(people,grains)))\n",
    "\n",
    "    "
   ]
  },
  {
   "cell_type": "code",
   "execution_count": null,
   "id": "e5c50e2d",
   "metadata": {},
   "outputs": [],
   "source": []
  }
 ],
 "metadata": {
  "kernelspec": {
   "display_name": "Python 3 (ipykernel)",
   "language": "python",
   "name": "python3"
  },
  "language_info": {
   "codemirror_mode": {
    "name": "ipython",
    "version": 3
   },
   "file_extension": ".py",
   "mimetype": "text/x-python",
   "name": "python",
   "nbconvert_exporter": "python",
   "pygments_lexer": "ipython3",
   "version": "3.9.12"
  }
 },
 "nbformat": 4,
 "nbformat_minor": 5
}
