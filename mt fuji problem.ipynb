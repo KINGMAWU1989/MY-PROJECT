{
 "cells": [
  {
   "cell_type": "code",
   "execution_count": 3,
   "id": "6157519e",
   "metadata": {},
   "outputs": [],
   "source": [
    "#PROBLEM 1\n",
    "mount_Fuji = 3776\n",
    "Thickness= 0.00008\n",
    "def folds_exceed_height(height=1000, thickness=0.00008):\n",
    "    if height < thickness:\n",
    "        return 0\n",
    "    folded_thickness = 0\n",
    "    i = 0\n",
    "    while height > folded_thickness:\n",
    "        i += 1\n",
    "        folded_thickness = thickness * 2 ** i\n",
    "    return i\n",
    "    print(folds_exceed_heigh(tmount_Fuji ,Thickness))"
   ]
  },
  {
   "cell_type": "code",
   "execution_count": 2,
   "id": "51010f2e",
   "metadata": {},
   "outputs": [
    {
     "name": "stdout",
     "output_type": "stream",
     "text": [
      "The number of fold for the paper is:  62 Times\n"
     ]
    }
   ],
   "source": [
    "#PROBLEM 2\n",
    "import math\n",
    "thickness = 0.00008\n",
    "def num_of_fold(distance):\n",
    "        num_of_fold = math.log(distance/thickness)/ math.log(2)\n",
    "        return num_of_fold\n",
    "        \n",
    "num_of_fold = num_of_fold(distance = 402080000000000)\n",
    "\n",
    "print(\"The number of fold for the paper is: \", round(num_of_fold), \"Times\")\n",
    "    \n",
    "  \n",
    "  "
   ]
  },
  {
   "cell_type": "code",
   "execution_count": 57,
   "id": "6347b10e",
   "metadata": {},
   "outputs": [
    {
     "name": "stdout",
     "output_type": "stream",
     "text": [
      "188646348487\n"
     ]
    }
   ],
   "source": [
    "#problem 3\n",
    "import math\n",
    "def required_length(number_of_fold, thickness=0.00008):\n",
    "    length = (math.pi * thickness * (2**number_of_fold + 4) * (2**number_of_fold -1))/6\n",
    "    return int(length)\n",
    "\n",
    "print (required_length(\n",
    "folds_exceed_height(MOUNT_FUJI, THICKNESS)\n",
    "))"
   ]
  },
  {
   "cell_type": "code",
   "execution_count": null,
   "id": "f2a272d9",
   "metadata": {},
   "outputs": [],
   "source": []
  },
  {
   "cell_type": "code",
   "execution_count": null,
   "id": "a64f6110",
   "metadata": {},
   "outputs": [],
   "source": []
  }
 ],
 "metadata": {
  "kernelspec": {
   "display_name": "Python 3 (ipykernel)",
   "language": "python",
   "name": "python3"
  },
  "language_info": {
   "codemirror_mode": {
    "name": "ipython",
    "version": 3
   },
   "file_extension": ".py",
   "mimetype": "text/x-python",
   "name": "python",
   "nbconvert_exporter": "python",
   "pygments_lexer": "ipython3",
   "version": "3.9.12"
  }
 },
 "nbformat": 4,
 "nbformat_minor": 5
}
