{
 "cells": [
  {
   "cell_type": "code",
   "execution_count": null,
   "id": "129ca99b",
   "metadata": {},
   "outputs": [],
   "source": [
    "\n",
    "\n",
    "\n",
    "\n",
    "\n",
    "A =   ([[-1 2 3], [4, -5, 6], [7, 8, -9]])\n",
    "\n",
    "B=   ([[0, 2, 1] [0, 2, -8], [2, 9, -1]])\n",
    "\n",
    "\n",
    "\n",
    "  \n",
    " step1:multiplication of every matrix element:   \n",
    "          /// (-1*0) + (2*1) + (3*2) (-1*2) +(2*2) + (3*9) (-1*1) + (2*-8) + (3*-1)///\n",
    "          /// (4*0) + (-5*0) + (6*2) (4*2) + (-5*2) +(6*9) (4*1) + (-5*-8) + (6*-1)///\n",
    "           ///(7*0) + (8*0) + (-9*2) (7*2) + (8*2) +(-9*9) (7*1) + (8*-8)  + (-9*-1)/// \n",
    "\n",
    "\n",
    "\n",
    "\n",
    "step2:then tjhe above result into:\n",
    "\n",
    "               ///(0+0+6)  (-2+4+27)  (-1-16-3)///\n",
    "               ///(0+0+12) (8-10+54)  (4+40-6)///\n",
    "               ///(0+0-18) (14+16-18) (7-64+9)///\n",
    "            \n",
    "            \n",
    "            \n",
    "the final answer is:           \n",
    "                 ///6   29  -20///\n",
    "                ///12  52  38///\n",
    "               ///-18 -15 -48///\n",
    "\n",
    "\n",
    "\n",
    "\n",
    "\n",
    "\n",
    "\n",
    "\n"
   ]
  },
  {
   "cell_type": "code",
   "execution_count": 1,
   "id": "718ff574",
   "metadata": {},
   "outputs": [
    {
     "name": "stdout",
     "output_type": "stream",
     "text": [
      "[[  6  29 -20]\n",
      " [ 12  52  38]\n",
      " [-18 -51 -48]]\n"
     ]
    }
   ],
   "source": [
    "#PROBLEM 2\n",
    "import numpy as np\n",
    "a_ndarray = np.array([[-1,2,3], [4,-5,6], [7,8,-9]])\n",
    "b_ndarray = np.array([[0,2,1], [0,2,-8], [2,9,-1]]) \n",
    "ab_ndarray = a_ndarray @ b_ndarray\n",
    "\n",
    "print(ab_ndarray)"
   ]
  },
  {
   "cell_type": "code",
   "execution_count": 7,
   "id": "df1a9d1d",
   "metadata": {},
   "outputs": [
    {
     "name": "stdout",
     "output_type": "stream",
     "text": [
      "52\n"
     ]
    }
   ],
   "source": [
    "#PROBLEM 3\n",
    "\n",
    "sum_of_ab_ndarray = (a_ndarray[1][0]*b_ndarray[0][1])+(a_ndarray[1][1]*b_ndarray[1][1])+(a_ndarray[1][2]*b_ndarray[2][1])\n",
    "print(sum_of_ab_ndarray)"
   ]
  },
  {
   "cell_type": "code",
   "execution_count": 15,
   "id": "cf96d065",
   "metadata": {},
   "outputs": [
    {
     "name": "stdout",
     "output_type": "stream",
     "text": [
      "[[  6.  29. -20.]\n",
      " [ 12.  52.  38.]\n",
      " [-18. -51. -48.]]\n"
     ]
    }
   ],
   "source": [
    "#PROBLEM 4\n",
    "\n",
    "def product_of_matrix(a,b):\n",
    "    ab_ndarray = np.empty([3,3])\n",
    "    for row in range(a.shape[0]):\n",
    "        for column in range(b.shape[1]):\n",
    "            ab_ndarray[row][column] = sum(a[row, :]*b[:, column])\n",
    "    return ab_ndarray\n",
    "print(product_of_matrix(a_ndarray, b_ndarray))"
   ]
  },
  {
   "cell_type": "code",
   "execution_count": 16,
   "id": "beb6b999",
   "metadata": {},
   "outputs": [
    {
     "name": "stdout",
     "output_type": "stream",
     "text": [
      "There is a problem with the sizeof the matrixes, which may result in incorrectcalculation,\n"
     ]
    }
   ],
   "source": [
    "#PROBLEM 5\n",
    "\n",
    "\n",
    "\n",
    "d_ndarray = np.array([[-1,2,3], [4,-5,6]])\n",
    "e_ndarray = np.array([[-9,8,7], [6,-5,4]])\n",
    "if(d_ndarray.shape[0]==e_ndarray.shape[1]):\n",
    "    print(product_of_matrix(d_ndarray, e_ndarray))\n",
    "else:\n",
    "    print(\"There is a problem with the sizeof the matrixes, which may result in incorrectcalculation,\")"
   ]
  },
  {
   "cell_type": "code",
   "execution_count": 18,
   "id": "39333f42",
   "metadata": {},
   "outputs": [
    {
     "name": "stdout",
     "output_type": "stream",
     "text": [
      "[[ 33. -28.   9.]\n",
      " [-48.  41.  -6.]\n",
      " [  9.  -6.  45.]]\n"
     ]
    }
   ],
   "source": [
    "#PROBLEM 6\n",
    "\n",
    "\n",
    "f_ndarray = d_ndarray.T\n",
    "print(product_of_matrix(f_ndarray, e_ndarray))"
   ]
  },
  {
   "cell_type": "code",
   "execution_count": null,
   "id": "ce8a0bbc",
   "metadata": {},
   "outputs": [],
   "source": []
  }
 ],
 "metadata": {
  "kernelspec": {
   "display_name": "Python 3 (ipykernel)",
   "language": "python",
   "name": "python3"
  },
  "language_info": {
   "codemirror_mode": {
    "name": "ipython",
    "version": 3
   },
   "file_extension": ".py",
   "mimetype": "text/x-python",
   "name": "python",
   "nbconvert_exporter": "python",
   "pygments_lexer": "ipython3",
   "version": "3.9.12"
  }
 },
 "nbformat": 4,
 "nbformat_minor": 5
}
